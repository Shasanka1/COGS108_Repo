{
 "cells": [
  {
   "cell_type": "markdown",
   "metadata": {},
   "source": [
    "# COGS 108 - Final Project Proposal"
   ]
  },
  {
   "cell_type": "markdown",
   "metadata": {},
   "source": [
    "# Names\n",
    "\n",
    "- Shasanka Nudurupati \n",
    "- Siddharth Vyasabattu\n",
    "- Abigail Vargas\n",
    "- Emily Lam \n",
    "- Pulkit Goyal\n",
    "- John Chou"
   ]
  },
  {
   "cell_type": "markdown",
   "metadata": {},
   "source": [
    "# Research Question"
   ]
  },
  {
   "cell_type": "markdown",
   "metadata": {},
   "source": [
    "-  Include a specific, clear data science question.\n",
    "-  Make sure what you're measuring (variables) to answer the question is clear\n",
    "\n",
    "What is your research question? Include the specific question you're setting out to answer. This question should be specific, answerable with data, and clear. A general question with specific subquestions is permitted. (1-2 sentences)\n",
    "\n",
    "**Research Question**:\n",
    "*Using scientific ananlysis, we want to focus on studying a relationship where day of the week,call type, disposition, neighborhood, and priority number of different police calls in San Diego from 2020-2023, as well as, predicting if there is a an influence/correlation for calls from one region in San Diego than others.*\n"
   ]
  },
  {
   "cell_type": "markdown",
   "metadata": {},
   "source": [
    "## Background and Prior Work"
   ]
  },
  {
   "cell_type": "markdown",
   "metadata": {},
   "source": [
    "\n",
    "- Include a general introduction to your topic\n",
    "- Include explanation of what work has been done previously\n",
    "- Include citations or links to previous work\n",
    "\n",
    "This section will present the background and context of your topic and question in a few paragraphs. Include a general introduction to your topic and then describe what information you currently know about the topic after doing your initial research. Include references to other projects who have asked similar questions or approached similar problems. Explain what others have learned in their projects.\n",
    "\n",
    "Find some relevant prior work, and reference those sources, summarizing what each did and what they learned. Even if you think you have a totally novel question, find the most similar prior work that you can and discuss how it relates to your project.\n",
    "\n",
    "References can be research publications, but they need not be. Blogs, GitHub repositories, company websites, etc., are all viable references if they are relevant to your project. It must be clear which information comes from which references. (2-3 paragraphs, including at least 2 references)\n",
    "\n",
    " **Use inline citation through Markdown footnotes to specify which references support which statements** \n",
    "\n",
    "For example: After government genocide in the 20th century, real birds were replaced with surveillance drones designed to look just like birds[^lorenz]. \n",
    "Use a minimum of 2 or 3 citations, but we prefer more[^admonish]. You need enough to fully explain and back up important facts. \n",
    "\n",
    "[^lorenz]: Lorenz, T. (9 Dec 2021) Birds Aren’t Real, or Are They? Inside a Gen Z Conspiracy Theory. *The New York Times*. https://www.nytimes.com/2021/12/09/technology/birds-arent-real-gen-z-misinformation.html \n",
    "[^admonish]: Also refs should be important to the background, not some randomly chosen vaguely related stuff. Include a web link if possible in refs as above.\n"
   ]
  },
  {
   "cell_type": "markdown",
   "metadata": {},
   "source": [
    "**Background & Prior Work**"
   ]
  },
  {
   "cell_type": "markdown",
   "metadata": {},
   "source": [
    "\n",
    "The continuous growth of police calls in recent years has led to social order challenges in San Diego. Ever since the rise of COVID-19 on late 2019 , the rise of police calls in San Diego Police department showed a increase in calls. From an average of 23 minutes in 2019 to 21 minutes in 2018 and 28 minutes in 2020 [1]. Although the direct cause of this slowness in time can be based on location of calls around the city and frequency. As San Diego is broken up with 55 zip codes, the process of knowing where the call is coming from and going can cause this time to increase for responders.  \n",
    "\n",
    "Prior work suggests that the increase of police responses time can be from the type of crime . From the Voice at San Diego,  response time for active domestic violance calls, assualt and indecent exposure incidents rose 27.1 munutes to 49.2 during 2018 to 2022, but the time of mental health crisis increased 50 minutes to 110 minutes [2]. Although the cause of cime can differentiate on priority, but the time for respone to the cime increased dramatically on all cimes. In order to understand this phenomia, the best approach is to use police call service data to use a multi-regression model analysis to predict correlations of call type, disposition, beat, location, and more with priority of cime. This way, this study can help police and local authorities with a better send of where calls are being predicted in coming from and faster way to get to them in a shorter amount of time. "
   ]
  },
  {
   "cell_type": "markdown",
   "metadata": {},
   "source": [
    "**References**"
   ]
  },
  {
   "cell_type": "markdown",
   "metadata": {},
   "source": [
    "1. Payton, Mari. “San Diego Police Department's Response Times Increased during the Pandemic.” NBC 7 San Diego, NBC San Diego, 17 Feb. 2021, https://www.nbcsandiego.com/news/investigations/san-diego-police-departments-response-times-increased-during-the-pandemic/2524279/. \n",
    "\n",
    "2. Halverstadt, Lisa. “San Diego Police Response Times Have Gone up Drastically.” Voice of San Diego, 16 Feb. 2023, https://voiceofsandiego.org/2023/02/15/san-diego-police-response-times-have-gone-up-drastically/. "
   ]
  },
  {
   "cell_type": "markdown",
   "metadata": {},
   "source": [
    "# Hypothesis\n"
   ]
  },
  {
   "cell_type": "markdown",
   "metadata": {},
   "source": [
    "\n",
    "- Include your team's hypothesis\n",
    "- Ensure that this hypothesis is clear to readers\n",
    "- Explain why you think this will be the outcome (what was your thinking?)\n",
    "\n",
    "What is your main hypothesis/predictions about what the answer to your question is? Briefly explain your thinking. (2-3 sentences)\n",
    "\n",
    "*We believe that there is a relationship between call type, disposition, beat, and location with the priority of the call occurances across San Deigo. The scale of calls will have a positive correlation with call type, disposition, beat, and location. As the increase in the type of cimes in an area can better determine priority of the call. *\n"
   ]
  },
  {
   "cell_type": "markdown",
   "metadata": {},
   "source": [
    "# Data"
   ]
  },
  {
   "cell_type": "markdown",
   "metadata": {},
   "source": [
    "1. Explain what the **ideal** dataset you would want to answer this question. (This should include: What variables? How many observations? Who/what/how would these data be collected? How would these data be stored/organized?)\n",
    "\n",
    "- The ideal dataset that will be used to better answer this question is by getting the recent police call records of the across San Diego from. This way, we can use the variables/observations from 2019-2023 data. This data will be collected with the help of  as they have the most up to data call responses. \n",
    "\n",
    "1. Search for potential **real** datasets that could provide you with something useful for this project.  You do not have to find every piece of data you will use, but you do need to have demonstrated some idea that (a) this data is gettable and (b) that this data may be different from what your ideal is\n",
    "\n",
    "- By using the San Diego Police Department Datasets as they have the most up to data calls related data based on city/region from 2019-2023. This way, we can realistically predict the model with real datasets. With the help of SDPD Police, the data is much possible to grab. With metrics and column information being uncertain, the process of data cleaning can research can help understand those sections. "
   ]
  },
  {
   "cell_type": "markdown",
   "metadata": {},
   "source": [
    "**DataSet(s)**"
   ]
  },
  {
   "cell_type": "markdown",
   "metadata": {},
   "source": [
    "1. **Dataset Name**: Police Calls in San Diego  (2019) \n",
    "\n",
    "**Link to the dataset**: https://data.sandiego.gov/datasets/police-calls-for-service/\n",
    "**Number of observations**: 590967 x 14 \n",
    "\n",
    "**Description of the dataset**: This dataset contains the different police calls that San Diego got in the year 2019\n",
    "\n",
    "2. **Dataset Name**: Police Calls in San Diego  (2020) \n",
    "\n",
    "**Link to the dataset**: https://data.sandiego.gov/datasets/police-calls-for-service/\n",
    "**Number of observations**: 567290 x 14 \n",
    "\n",
    "**Description of the dataset**: This dataset contains the different police calls that San Diego got in the year 2020\n",
    "\n",
    "3. **Dataset Name**: Police Calls in San Diego  (2021) \n",
    "\n",
    "**Link to the dataset**: https://data.sandiego.gov/datasets/police-calls-for-service/\n",
    "**Number of observations**: 568947 x 14 \n",
    "\n",
    "**Description of the dataset**: This dataset contains the different police calls that San Diego got in the year 2021\n",
    "\n",
    "4. **Dataset Name**: Police Calls in San Diego  (2022) \n",
    "\n",
    "**Link to the dataset**: https://data.sandiego.gov/datasets/police-calls-for-service/\n",
    "**Number of observations**: 499256 x 14 \n",
    "\n",
    "**Description of the dataset**: This dataset contains the different police calls that San Diego got in the year 2022\n",
    "\n",
    "5. **Dataset Name**: Police Calls in San Diego  (2023) \n",
    "\n",
    "**Link to the dataset**: https://data.sandiego.gov/datasets/police-calls-for-service/\n",
    "**Number of observations**: 83285 x 14 \n",
    "\n",
    "**Description of the dataset**: This dataset contains the different police calls that San Diego got in the year 2023\n"
   ]
  },
  {
   "cell_type": "markdown",
   "metadata": {},
   "source": [
    "# Ethics & Privacy"
   ]
  },
  {
   "cell_type": "markdown",
   "metadata": {},
   "source": [
    "- Thoughtful discussion of ethical concerns included\n",
    "- Ethical concerns consider the whole data science process (question asked, data collected, data being used, the bias in data, analysis, post-analysis, etc.)\n",
    "- How your group handled bias/ethical concerns clearly described\n",
    "\n",
    "Acknowledge and address any ethics & privacy related issues of your question(s), proposed dataset(s), and/or analyses. Use the information provided in lecture to guide your group discussion and thinking. If you need further guidance, check out [Deon's Ethics Checklist](http://deon.drivendata.org/#data-science-ethics-checklist). In particular:\n",
    "\n",
    "- Are there any biases/privacy/terms of use issues with the data you propsed?\n",
    "- Are there potential biases in your dataset(s), in terms of who it composes, and how it was collected, that may be problematic in terms of it allowing for equitable analysis? (For example, does your data exclude particular populations, or is it likely to reflect particular human biases in a way that could be a problem?)\n",
    "- How will you set out to detect these specific biases before, during, and after/when communicating your analysis?\n",
    "- Are there any other issues related to your topic area, data, and/or analyses that are potentially problematic in terms of data privacy and equitable impact?\n",
    "- How will you handle issues you identified?"
   ]
  },
  {
   "cell_type": "markdown",
   "metadata": {},
   "source": [
    "**Data Ethics**"
   ]
  },
  {
   "cell_type": "markdown",
   "metadata": {},
   "source": [
    "Whe it comes to ethics of the project, we believe that we have done the project in a fair and legitimate approach. Also to note, the project is going to be done for academic use, instead of commercial purpose. Looking at the data sources we are going to use in the project, which are from the San Diego Police Call Serives Datasets. We always adhere to the princples of data privacy, and we will use the data if and only if we have permission to do so. To eliminate inaccuracy of the data, we can choose some data values ( call type, disposition, beat and location) and search them separately, comparing them to examine liability. \n",
    "\n",
    "However, there can exist an ethical issue with the locations/regions of the different places in San Diego as it includes their location. It is also noticed that this matrix will be used in out final dataset which captures all places San Diego listed above for police call priority. Some incidents will be missed if it is not in coordinate range, missing/unclear data, which can slightly alter the data in out Data Cleaning/Wrangling process. This analysis can be very useful to prevent police response times in an indirect way, since it shows us the pivotal variables that would effect predicting priority areas in San Diego in those regions which raises our awareness of the importance of responders. "
   ]
  },
  {
   "cell_type": "markdown",
   "metadata": {},
   "source": [
    "# Team Expectations "
   ]
  },
  {
   "cell_type": "markdown",
   "metadata": {},
   "source": [
    "\n",
    "Read over the [COGS108 Team Policies](https://github.com/COGS108/Projects/blob/master/COGS108_TeamPolicies.md) individually. Then, include your group’s expectations of one another for successful completion of your COGS108 project below. Discuss and agree on what all of your expectations are. Discuss how your team will communicate throughout the quarter and consider how you will communicate respectfully should conflicts arise. By including each member’s name above and by adding their name to the submission, you are indicating that you have read the COGS108 Team Policies, accept your team’s expectations below, and have every intention to fulfill them. These expectations are for your team’s use and benefit — they won’t be graded for their details.\n",
    "\n",
    "*Everyone should contribute in some way or another to each of the following project aspects:*\n",
    "\n",
    "\n",
    "* *Deciding on the project topic, searching for possible datasets, and honing the data science question*\n",
    "* *Writing well-commented and clear code to wrangle, explore, visualize, analyze, and communicate your groups’ findings.*\n",
    "* *Writing the accompanying text throughout the project to explain each section.*\n",
    "* *Editing the text and code throughout your project for grammar, misspellings, and clarity.*\n",
    "\n",
    "*Plan*\n",
    "* *Meet up Once a week Sat or Sun to check up on progress/assign tasks to be done*\n",
    "* *If your confused throughout the week, reachout in group chat about tasks, ideas, etc.*\n",
    "* *If people are able to meet throughout the week with other team members then go ahead*"
   ]
  },
  {
   "cell_type": "markdown",
   "metadata": {},
   "source": [
    "# Project Timeline Proposal"
   ]
  },
  {
   "cell_type": "markdown",
   "metadata": {},
   "source": [
    "Specify your team's specific project timeline. An example timeline has been provided. Changes the dates, times, names, and details to fit your group's plan.\n",
    "\n",
    "If you think you will need any special resources or training outside what we have covered in COGS 108 to solve your problem, then your proposal should state these clearly. For example, if you have selected a problem that involves implementing multiple neural networks, please state this so we can make sure you know what you’re doing and so we can point you to resources you will need to implement your project. Note that you are not required to use outside methods.\n",
    "\n",
    "\n",
    "\n",
    "| Meeting Date  | Meeting Time| Completed Before Meeting  | Discuss at Meeting |\n",
    "|---|---|---|---|\n",
    "| 1/20  |  1 PM | Read & Think about COGS 108 expectations; brainstorm topics/questions  | Determine best form of communication; Discuss and decide on final project topic; discuss hypothesis; begin background research | \n",
    "| 1/26  |  10 AM |  Do background research on topic | Discuss ideal dataset(s) and ethics; draft project proposal | \n",
    "| 2/1  | 10 AM  | Edit, finalize, and submit proposal; Search for datasets  | Discuss Wrangling and possible analytical approaches; Assign group members to lead each specific part   |\n",
    "| 2/14  | 6 PM  | Import & Wrangle Data (Ant Man); EDA (Hulk) | Review/Edit wrangling/EDA; Discuss Analysis Plan   |\n",
    "| 2/23  | 12 PM  | Finalize wrangling/EDA; Begin Analysis (Iron Man; Thor) | Discuss/edit Analysis; Complete project check-in |\n",
    "| 3/13  | 12 PM  | Complete analysis; Draft results/conclusion/discussion (Wasp)| Discuss/edit full project |\n",
    "| 3/19  | Before 11:59 PM  | NA | Turn in Final Project & Group Project Surveys |"
   ]
  },
  {
   "cell_type": "code",
   "execution_count": null,
   "metadata": {},
   "outputs": [],
   "source": []
  }
 ],
 "metadata": {
  "kernelspec": {
   "display_name": "Python 3 (ipykernel)",
   "language": "python",
   "name": "python3"
  },
  "language_info": {
   "codemirror_mode": {
    "name": "ipython",
    "version": 3
   },
   "file_extension": ".py",
   "mimetype": "text/x-python",
   "name": "python",
   "nbconvert_exporter": "python",
   "pygments_lexer": "ipython3",
   "version": "3.9.7"
  }
 },
 "nbformat": 4,
 "nbformat_minor": 4
}
