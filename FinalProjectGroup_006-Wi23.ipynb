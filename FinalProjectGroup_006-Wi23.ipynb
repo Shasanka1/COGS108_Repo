{
 "cells": [
  {
   "cell_type": "markdown",
   "metadata": {},
   "source": [
    "# Police Priority Calls Analytics in San Diego from 2020-2023 "
   ]
  },
  {
   "cell_type": "markdown",
   "metadata": {},
   "source": [
    "## Permissions\n",
    "\n",
    "Place an `X` in the appropriate bracket below to specify if you would like your group's project to be made available to the public. (Note that student names will be included (but PIDs will be scraped from any groups who include their PIDs).\n",
    "\n",
    "* [X] YES - make available\n",
    "* [  ] NO - keep private"
   ]
  },
  {
   "cell_type": "markdown",
   "metadata": {},
   "source": [
    "# Overview"
   ]
  },
  {
   "cell_type": "markdown",
   "metadata": {},
   "source": [
    "In San Diego, police calls have been an issues over the years. In beginning of 2018, the city had more active crimes around the city. The shocking factor was that the number of police calls just in the 2 months of 2023 increased to the size of 83285 calls to the police. This number is alarming as per day average is around 1100-1200 calls a day. This issue is severe, and more importantly, it has increased is a concern. **With this analysis, we wanted to focus on measuring if components like day of the week, call type, neighborhood, description, disposition, and address played into predicting the priority level of calls** As a result, we have found that there is infact a relationship of these variables that predict priority of calls in around San Diego, and we hope this provides a predictive model to improving reaction speed for SDPD.\n"
   ]
  },
  {
   "cell_type": "markdown",
   "metadata": {},
   "source": [
    "# Names\n",
    "- Shasanka Nudurupati \n",
    "- Siddharth Vyasabattu\n",
    "- Abigail Vargas\n",
    "- Emily Lam \n",
    "- Pulkit Goyal\n",
    "- John Chou"
   ]
  },
  {
   "cell_type": "markdown",
   "metadata": {},
   "source": [
    "<a id='research_question'></a>\n",
    "# Research Question"
   ]
  },
  {
   "cell_type": "markdown",
   "metadata": {},
   "source": [
    "*Using scientific ananlysis, we want to focus on studying a relationship where day of the week, call type, neighborhood, description, disposition, and address predicte if there is a an influence/correlation for priority of such calls in San Diego from 2020-2023 dataset(s)*"
   ]
  },
  {
   "cell_type": "markdown",
   "metadata": {},
   "source": [
    "<a id='background'></a>\n",
    "\n",
    "## Background & Prior Work"
   ]
  },
  {
   "cell_type": "markdown",
   "metadata": {},
   "source": [
    "The continuous growth of police calls in recent years has led to social order challenges in San Diego. Ever since the rise of COVID-19 on late 2019 , the rise of police calls in San Diego Police department showed a increase in calls. From an average of 23 minutes in 2019 to 21 minutes in 2018 and 28 minutes in 2020 [1]. Although the direct cause of this slowness in time can be based on location of calls around the city and frequency. As San Diego is broken up with 55 zip codes, the process of knowing where the call is coming from and going can cause this time to increase for responders.  \n",
    "\n",
    "Prior work suggests that the increase of police responses time can be from the type of crime . From the Voice at San Diego,  response time for active domestic violance calls, assualt and indecent exposure incidents rose 27.1 munutes to 49.2 during 2018 to 2022, but the time of mental health crisis increased 50 minutes to 110 minutes [2]. Although the cause of cime can differentiate on priority, but the time for respone to the cime increased dramatically on all cimes. In order to understand this phenomia, the best approach is to use police call service data to use a multi-regression model analysis to predict correlations of call type, disposition, beat, location, and more with priority of cime. This way, this study can help police and local authorities with a better send of where calls are being predicted in coming from and faster way to get to them in a shorter amount of time.\n",
    "\n",
    "References (include links):\n",
    "1. Payton, Mari. “San Diego Police Department's Response Times Increased during the Pandemic.” NBC 7 San Diego, NBC San Diego, 17 Feb. 2021, https://www.nbcsandiego.com/news/investigations/san-diego-police-departments-response-times-increased-during-the-pandemic/2524279/. \n",
    "\n",
    "2. Halverstadt, Lisa. “San Diego Police Response Times Have Gone up Drastically.” Voice of San Diego, 16 Feb. 2023, https://voiceofsandiego.org/2023/02/15/san-diego-police-response-times-have-gone-up-drastically/. "
   ]
  },
  {
   "cell_type": "markdown",
   "metadata": {},
   "source": [
    "# Hypothesis\n"
   ]
  },
  {
   "cell_type": "markdown",
   "metadata": {},
   "source": [
    "We believe that there is a relationship between call type, disposition, beat, and location with the priority of the call occurances across San Deigo. The scale of calls will have a positive correlation with call type, disposition, beat, and location. As the increase in the type of cimes in an area can better determine priority of the call."
   ]
  },
  {
   "cell_type": "markdown",
   "metadata": {},
   "source": [
    "# Dataset(s)"
   ]
  },
  {
   "cell_type": "markdown",
   "metadata": {},
   "source": [
    "1. **Dataset Name**: Police Calls in San Diego  (2020)\n",
    "\n",
    "    **Link to the dataset**: https://data.sandiego.gov/datasets/police-calls-for-service/  \n",
    "    **Number of observations**: 567290 x 14  \n",
    "    **Description of the dataset**: This dataset contains the different police calls that San Diego got in the year 2020 \n",
    "\n",
    "2. **Dataset Name**: Police Calls in San Diego  (2021) \n",
    "\n",
    "    **Link to the dataset**: https://data.sandiego.gov/datasets/police-calls-for-service/  \n",
    "    **Number of observations**: 568947 x 14   \n",
    "    **Description of the dataset**: This dataset contains the different police calls that San Diego got in the year 2021\n",
    "\n",
    "3. **Dataset Name**: Police Calls in San Diego  (2022) \n",
    "\n",
    "    **Link to the dataset**: https://data.sandiego.gov/datasets/police-calls-for-service/  \n",
    "    **Number of observations**: 499256 x 14  \n",
    "    **Description of the dataset**: This dataset contains the different police calls that San Diego got in the year 2022\n",
    "\n",
    "4. **Dataset Name**: Police Calls in San Diego  (2023) \n",
    "\n",
    "    **Link to the dataset**: https://data.sandiego.gov/datasets/police-calls-for-service/  \n",
    "    **Number of observations**: 83285 x 14   \n",
    "    **Description of the dataset**: This dataset contains the different police calls that San Diego got in the year 2023"
   ]
  },
  {
   "cell_type": "markdown",
   "metadata": {},
   "source": [
    "# Setup"
   ]
  },
  {
   "cell_type": "code",
   "execution_count": 33,
   "metadata": {},
   "outputs": [],
   "source": [
    "\n",
    "import pandas as pd\n",
    "import numpy as np\n",
    "import plotly.express as px\n",
    "\n",
    "# Visualizations \n",
    "import seaborn as sns\n",
    "import matplotlib.pyplot as plt\n",
    "\n",
    "#Import scipy to gather statistics\n",
    "from scipy import stats\n",
    "\n",
    "# Import patsy and statsmodels for regression analysis\n",
    "import patsy\n",
    "import statsmodels.api as sm\n",
    "import statsmodels.formula.api as smf\n",
    "\n",
    "# For randomness\n",
    "import random \n",
    "\n",
    "# using dask library for faster parallel processing for large datasets\n",
    "import dask.dataframe as dd\n",
    "\n",
    "# Example Functions/Classes \n",
    "from sklearn.ensemble import RandomForestRegressor\n",
    "from sklearn.feature_selection import SelectFromModel\n",
    "from sklearn.tree import DecisionTreeClassifier\n",
    "from sklearn.metrics import classification_report, precision_recall_fscore_support\n",
    "from sklearn.linear_model import LinearRegression\n",
    "from sklearn.preprocessing import OneHotEncoder\n",
    "from sklearn.pipeline import Pipeline\n",
    "from sklearn.model_selection import train_test_split\n",
    "from sklearn.compose import ColumnTransformer\n",
    "from sklearn.metrics import mean_squared_error\n",
    "from sklearn.preprocessing import QuantileTransformer\n",
    "from sklearn.model_selection import GridSearchCV\n",
    "from sklearn import metrics\n",
    "from sklearn.preprocessing import StandardScaler"
   ]
  },
  {
   "cell_type": "markdown",
   "metadata": {},
   "source": [
    "# Data Cleaning"
   ]
  },
  {
   "cell_type": "markdown",
   "metadata": {},
   "source": [
    "Describe your data cleaning steps here."
   ]
  },
  {
   "cell_type": "code",
   "execution_count": 2,
   "metadata": {},
   "outputs": [
    {
     "data": {
      "text/plain": [
       "(83285, 14)"
      ]
     },
     "execution_count": 2,
     "metadata": {},
     "output_type": "execute_result"
    }
   ],
   "source": [
    "police_calls_2023 = pd.read_csv('Data/pd_calls_for_service_2023_datasd.csv') # has 7.8 MB Data\n",
    "police_calls_2022 = pd.read_csv('Data/pd_calls_for_service_2022_datasd.csv') # has 47 MB\n",
    "police_calls_2021 = pd.read_csv('Data/pd_calls_for_service_2021_datasd.csv') # has 53 MB\n",
    "police_calls_2020 = pd.read_csv('Data/pd_calls_for_service_2020_datasd.csv') # has 53 MB\n",
    "\n",
    "disp_codes = pd.read_csv('Data/pd_dispo_codes_datasd.csv')\n",
    "beats = pd.read_csv('Data/pd_beat_codes_list_datasd.csv')\n",
    "police_calls_2023[police_calls_2023['day_of_week'] == 1]\n",
    "police_calls_2023.shape"
   ]
  },
  {
   "cell_type": "code",
   "execution_count": 3,
   "metadata": {},
   "outputs": [],
   "source": [
    "police_calls_big_dataset = pd.concat([police_calls_2023, police_calls_2022, police_calls_2021, police_calls_2020])\n",
    "police_calls_big_dataset = police_calls_big_dataset.merge(disp_codes, left_on= 'disposition', right_on= 'dispo_code')\n",
    "police_calls_big_dataset = police_calls_big_dataset.merge(beats)\n",
    "\n",
    "# Focusing out dataset on the columns that are best measurements for Linear/correlation predictions\n",
    "\n",
    "police_calls_big_dataset = police_calls_big_dataset[['date_time', 'day_of_week', 'call_type', 'disposition', 'priority', 'description', 'neighborhood', 'address_sfx_primary']]\n",
    "police_calls_big_dataset = police_calls_big_dataset.sort_values(by = 'priority', ascending = False)"
   ]
  },
  {
   "cell_type": "code",
   "execution_count": null,
   "metadata": {},
   "outputs": [
    {
     "data": {
      "text/html": [
       "<div>\n",
       "<style scoped>\n",
       "    .dataframe tbody tr th:only-of-type {\n",
       "        vertical-align: middle;\n",
       "    }\n",
       "\n",
       "    .dataframe tbody tr th {\n",
       "        vertical-align: top;\n",
       "    }\n",
       "\n",
       "    .dataframe thead th {\n",
       "        text-align: right;\n",
       "    }\n",
       "</style>\n",
       "<table border=\"1\" class=\"dataframe\">\n",
       "  <thead>\n",
       "    <tr style=\"text-align: right;\">\n",
       "      <th></th>\n",
       "      <th>date_time</th>\n",
       "      <th>day_of_week</th>\n",
       "      <th>call_type</th>\n",
       "      <th>disposition</th>\n",
       "      <th>priority</th>\n",
       "      <th>description</th>\n",
       "      <th>neighborhood</th>\n",
       "      <th>address_sfx_primary</th>\n",
       "    </tr>\n",
       "  </thead>\n",
       "  <tbody>\n",
       "    <tr>\n",
       "      <th>1588528</th>\n",
       "      <td>2020-12-18 16:05:59</td>\n",
       "      <td>6</td>\n",
       "      <td>530</td>\n",
       "      <td>R</td>\n",
       "      <td>9</td>\n",
       "      <td>REPORT</td>\n",
       "      <td>Cherokee Point</td>\n",
       "      <td>ST</td>\n",
       "    </tr>\n",
       "    <tr>\n",
       "      <th>1067134</th>\n",
       "      <td>2021-06-05 13:26:54</td>\n",
       "      <td>7</td>\n",
       "      <td>10852R</td>\n",
       "      <td>R</td>\n",
       "      <td>9</td>\n",
       "      <td>REPORT</td>\n",
       "      <td>Bay Park</td>\n",
       "      <td>ST</td>\n",
       "    </tr>\n",
       "    <tr>\n",
       "      <th>890896</th>\n",
       "      <td>2021-10-13 12:10:07</td>\n",
       "      <td>4</td>\n",
       "      <td>653M</td>\n",
       "      <td>K</td>\n",
       "      <td>9</td>\n",
       "      <td>NO REPORT REQUIRED</td>\n",
       "      <td>Fairmount Village</td>\n",
       "      <td>ST</td>\n",
       "    </tr>\n",
       "    <tr>\n",
       "      <th>1067142</th>\n",
       "      <td>2021-06-14 14:05:29</td>\n",
       "      <td>2</td>\n",
       "      <td>488R</td>\n",
       "      <td>R</td>\n",
       "      <td>9</td>\n",
       "      <td>REPORT</td>\n",
       "      <td>Bay Park</td>\n",
       "      <td>ST</td>\n",
       "    </tr>\n",
       "    <tr>\n",
       "      <th>1428628</th>\n",
       "      <td>2021-10-06 16:24:28</td>\n",
       "      <td>4</td>\n",
       "      <td>530</td>\n",
       "      <td>R</td>\n",
       "      <td>9</td>\n",
       "      <td>REPORT</td>\n",
       "      <td>Chollas Creek</td>\n",
       "      <td>AVE</td>\n",
       "    </tr>\n",
       "    <tr>\n",
       "      <th>...</th>\n",
       "      <td>...</td>\n",
       "      <td>...</td>\n",
       "      <td>...</td>\n",
       "      <td>...</td>\n",
       "      <td>...</td>\n",
       "      <td>...</td>\n",
       "      <td>...</td>\n",
       "      <td>...</td>\n",
       "    </tr>\n",
       "    <tr>\n",
       "      <th>1156618</th>\n",
       "      <td>2021-01-28 09:13:16</td>\n",
       "      <td>5</td>\n",
       "      <td>1183</td>\n",
       "      <td>R</td>\n",
       "      <td>0</td>\n",
       "      <td>REPORT</td>\n",
       "      <td>Golden Hill</td>\n",
       "      <td>ST</td>\n",
       "    </tr>\n",
       "    <tr>\n",
       "      <th>870004</th>\n",
       "      <td>2021-02-01 07:11:31</td>\n",
       "      <td>2</td>\n",
       "      <td>245</td>\n",
       "      <td>R</td>\n",
       "      <td>0</td>\n",
       "      <td>REPORT</td>\n",
       "      <td>North Park</td>\n",
       "      <td>ST</td>\n",
       "    </tr>\n",
       "    <tr>\n",
       "      <th>203142</th>\n",
       "      <td>2020-06-29 17:24:04</td>\n",
       "      <td>2</td>\n",
       "      <td>1183</td>\n",
       "      <td>K</td>\n",
       "      <td>0</td>\n",
       "      <td>NO REPORT REQUIRED</td>\n",
       "      <td>Pacific Beach</td>\n",
       "      <td>ST</td>\n",
       "    </tr>\n",
       "    <tr>\n",
       "      <th>1315951</th>\n",
       "      <td>2022-05-06 15:27:11</td>\n",
       "      <td>6</td>\n",
       "      <td>11-8</td>\n",
       "      <td>K</td>\n",
       "      <td>0</td>\n",
       "      <td>NO REPORT REQUIRED</td>\n",
       "      <td>Teralta West</td>\n",
       "      <td>ST</td>\n",
       "    </tr>\n",
       "    <tr>\n",
       "      <th>98443</th>\n",
       "      <td>2021-03-16 16:41:28</td>\n",
       "      <td>3</td>\n",
       "      <td>10852</td>\n",
       "      <td>K</td>\n",
       "      <td>0</td>\n",
       "      <td>NO REPORT REQUIRED</td>\n",
       "      <td>East Village</td>\n",
       "      <td>AVE</td>\n",
       "    </tr>\n",
       "  </tbody>\n",
       "</table>\n",
       "<p>1686084 rows × 8 columns</p>\n",
       "</div>"
      ],
      "text/plain": [
       "                   date_time  day_of_week call_type disposition  priority  \\\n",
       "1588528  2020-12-18 16:05:59            6       530           R         9   \n",
       "1067134  2021-06-05 13:26:54            7    10852R           R         9   \n",
       "890896   2021-10-13 12:10:07            4      653M           K         9   \n",
       "1067142  2021-06-14 14:05:29            2      488R           R         9   \n",
       "1428628  2021-10-06 16:24:28            4       530           R         9   \n",
       "...                      ...          ...       ...         ...       ...   \n",
       "1156618  2021-01-28 09:13:16            5      1183           R         0   \n",
       "870004   2021-02-01 07:11:31            2       245           R         0   \n",
       "203142   2020-06-29 17:24:04            2      1183           K         0   \n",
       "1315951  2022-05-06 15:27:11            6      11-8           K         0   \n",
       "98443    2021-03-16 16:41:28            3     10852           K         0   \n",
       "\n",
       "                description       neighborhood address_sfx_primary  \n",
       "1588528              REPORT     Cherokee Point                  ST  \n",
       "1067134              REPORT           Bay Park                  ST  \n",
       "890896   NO REPORT REQUIRED  Fairmount Village                  ST  \n",
       "1067142              REPORT           Bay Park                  ST  \n",
       "1428628              REPORT      Chollas Creek                 AVE  \n",
       "...                     ...                ...                 ...  \n",
       "1156618              REPORT        Golden Hill                  ST  \n",
       "870004               REPORT         North Park                  ST  \n",
       "203142   NO REPORT REQUIRED      Pacific Beach                  ST  \n",
       "1315951  NO REPORT REQUIRED       Teralta West                  ST  \n",
       "98443    NO REPORT REQUIRED       East Village                 AVE  \n",
       "\n",
       "[1686084 rows x 8 columns]"
      ]
     },
     "execution_count": 4,
     "metadata": {},
     "output_type": "execute_result"
    }
   ],
   "source": [
    "police_calls_big_dataset"
   ]
  },
  {
   "cell_type": "markdown",
   "metadata": {},
   "source": [
    "# Data Analysis & Results"
   ]
  },
  {
   "cell_type": "markdown",
   "metadata": {},
   "source": [
    "## Explore the dataset"
   ]
  },
  {
   "cell_type": "code",
   "execution_count": 5,
   "metadata": {},
   "outputs": [
    {
     "data": {
      "text/html": [
       "<div>\n",
       "<style scoped>\n",
       "    .dataframe tbody tr th:only-of-type {\n",
       "        vertical-align: middle;\n",
       "    }\n",
       "\n",
       "    .dataframe tbody tr th {\n",
       "        vertical-align: top;\n",
       "    }\n",
       "\n",
       "    .dataframe thead th {\n",
       "        text-align: right;\n",
       "    }\n",
       "</style>\n",
       "<table border=\"1\" class=\"dataframe\">\n",
       "  <thead>\n",
       "    <tr style=\"text-align: right;\">\n",
       "      <th></th>\n",
       "      <th>date_time</th>\n",
       "      <th>day_of_week</th>\n",
       "      <th>call_type</th>\n",
       "      <th>disposition</th>\n",
       "      <th>priority</th>\n",
       "      <th>description</th>\n",
       "      <th>neighborhood</th>\n",
       "      <th>address_sfx_primary</th>\n",
       "    </tr>\n",
       "  </thead>\n",
       "  <tbody>\n",
       "    <tr>\n",
       "      <th>1588528</th>\n",
       "      <td>2020-12-18 16:05:59</td>\n",
       "      <td>6</td>\n",
       "      <td>530</td>\n",
       "      <td>R</td>\n",
       "      <td>9</td>\n",
       "      <td>REPORT</td>\n",
       "      <td>Cherokee Point</td>\n",
       "      <td>ST</td>\n",
       "    </tr>\n",
       "    <tr>\n",
       "      <th>1067134</th>\n",
       "      <td>2021-06-05 13:26:54</td>\n",
       "      <td>7</td>\n",
       "      <td>10852R</td>\n",
       "      <td>R</td>\n",
       "      <td>9</td>\n",
       "      <td>REPORT</td>\n",
       "      <td>Bay Park</td>\n",
       "      <td>ST</td>\n",
       "    </tr>\n",
       "    <tr>\n",
       "      <th>890896</th>\n",
       "      <td>2021-10-13 12:10:07</td>\n",
       "      <td>4</td>\n",
       "      <td>653M</td>\n",
       "      <td>K</td>\n",
       "      <td>9</td>\n",
       "      <td>NO REPORT REQUIRED</td>\n",
       "      <td>Fairmount Village</td>\n",
       "      <td>ST</td>\n",
       "    </tr>\n",
       "    <tr>\n",
       "      <th>1067142</th>\n",
       "      <td>2021-06-14 14:05:29</td>\n",
       "      <td>2</td>\n",
       "      <td>488R</td>\n",
       "      <td>R</td>\n",
       "      <td>9</td>\n",
       "      <td>REPORT</td>\n",
       "      <td>Bay Park</td>\n",
       "      <td>ST</td>\n",
       "    </tr>\n",
       "    <tr>\n",
       "      <th>1428628</th>\n",
       "      <td>2021-10-06 16:24:28</td>\n",
       "      <td>4</td>\n",
       "      <td>530</td>\n",
       "      <td>R</td>\n",
       "      <td>9</td>\n",
       "      <td>REPORT</td>\n",
       "      <td>Chollas Creek</td>\n",
       "      <td>AVE</td>\n",
       "    </tr>\n",
       "  </tbody>\n",
       "</table>\n",
       "</div>"
      ],
      "text/plain": [
       "                   date_time  day_of_week call_type disposition  priority  \\\n",
       "1588528  2020-12-18 16:05:59            6       530           R         9   \n",
       "1067134  2021-06-05 13:26:54            7    10852R           R         9   \n",
       "890896   2021-10-13 12:10:07            4      653M           K         9   \n",
       "1067142  2021-06-14 14:05:29            2      488R           R         9   \n",
       "1428628  2021-10-06 16:24:28            4       530           R         9   \n",
       "\n",
       "                description       neighborhood address_sfx_primary  \n",
       "1588528              REPORT     Cherokee Point                  ST  \n",
       "1067134              REPORT           Bay Park                  ST  \n",
       "890896   NO REPORT REQUIRED  Fairmount Village                  ST  \n",
       "1067142              REPORT           Bay Park                  ST  \n",
       "1428628              REPORT      Chollas Creek                 AVE  "
      ]
     },
     "execution_count": 5,
     "metadata": {},
     "output_type": "execute_result"
    }
   ],
   "source": [
    "police_calls_big_dataset.head()"
   ]
  },
  {
   "cell_type": "code",
   "execution_count": 6,
   "metadata": {},
   "outputs": [
    {
     "data": {
      "text/html": [
       "<div>\n",
       "<style scoped>\n",
       "    .dataframe tbody tr th:only-of-type {\n",
       "        vertical-align: middle;\n",
       "    }\n",
       "\n",
       "    .dataframe tbody tr th {\n",
       "        vertical-align: top;\n",
       "    }\n",
       "\n",
       "    .dataframe thead th {\n",
       "        text-align: right;\n",
       "    }\n",
       "</style>\n",
       "<table border=\"1\" class=\"dataframe\">\n",
       "  <thead>\n",
       "    <tr style=\"text-align: right;\">\n",
       "      <th></th>\n",
       "      <th>date_time</th>\n",
       "      <th>day_of_week</th>\n",
       "      <th>call_type</th>\n",
       "      <th>disposition</th>\n",
       "      <th>priority</th>\n",
       "      <th>description</th>\n",
       "      <th>neighborhood</th>\n",
       "      <th>address_sfx_primary</th>\n",
       "    </tr>\n",
       "  </thead>\n",
       "  <tbody>\n",
       "    <tr>\n",
       "      <th>1156618</th>\n",
       "      <td>2021-01-28 09:13:16</td>\n",
       "      <td>5</td>\n",
       "      <td>1183</td>\n",
       "      <td>R</td>\n",
       "      <td>0</td>\n",
       "      <td>REPORT</td>\n",
       "      <td>Golden Hill</td>\n",
       "      <td>ST</td>\n",
       "    </tr>\n",
       "    <tr>\n",
       "      <th>870004</th>\n",
       "      <td>2021-02-01 07:11:31</td>\n",
       "      <td>2</td>\n",
       "      <td>245</td>\n",
       "      <td>R</td>\n",
       "      <td>0</td>\n",
       "      <td>REPORT</td>\n",
       "      <td>North Park</td>\n",
       "      <td>ST</td>\n",
       "    </tr>\n",
       "    <tr>\n",
       "      <th>203142</th>\n",
       "      <td>2020-06-29 17:24:04</td>\n",
       "      <td>2</td>\n",
       "      <td>1183</td>\n",
       "      <td>K</td>\n",
       "      <td>0</td>\n",
       "      <td>NO REPORT REQUIRED</td>\n",
       "      <td>Pacific Beach</td>\n",
       "      <td>ST</td>\n",
       "    </tr>\n",
       "    <tr>\n",
       "      <th>1315951</th>\n",
       "      <td>2022-05-06 15:27:11</td>\n",
       "      <td>6</td>\n",
       "      <td>11-8</td>\n",
       "      <td>K</td>\n",
       "      <td>0</td>\n",
       "      <td>NO REPORT REQUIRED</td>\n",
       "      <td>Teralta West</td>\n",
       "      <td>ST</td>\n",
       "    </tr>\n",
       "    <tr>\n",
       "      <th>98443</th>\n",
       "      <td>2021-03-16 16:41:28</td>\n",
       "      <td>3</td>\n",
       "      <td>10852</td>\n",
       "      <td>K</td>\n",
       "      <td>0</td>\n",
       "      <td>NO REPORT REQUIRED</td>\n",
       "      <td>East Village</td>\n",
       "      <td>AVE</td>\n",
       "    </tr>\n",
       "  </tbody>\n",
       "</table>\n",
       "</div>"
      ],
      "text/plain": [
       "                   date_time  day_of_week call_type disposition  priority  \\\n",
       "1156618  2021-01-28 09:13:16            5      1183           R         0   \n",
       "870004   2021-02-01 07:11:31            2       245           R         0   \n",
       "203142   2020-06-29 17:24:04            2      1183           K         0   \n",
       "1315951  2022-05-06 15:27:11            6      11-8           K         0   \n",
       "98443    2021-03-16 16:41:28            3     10852           K         0   \n",
       "\n",
       "                description   neighborhood address_sfx_primary  \n",
       "1156618              REPORT    Golden Hill                  ST  \n",
       "870004               REPORT     North Park                  ST  \n",
       "203142   NO REPORT REQUIRED  Pacific Beach                  ST  \n",
       "1315951  NO REPORT REQUIRED   Teralta West                  ST  \n",
       "98443    NO REPORT REQUIRED   East Village                 AVE  "
      ]
     },
     "execution_count": 6,
     "metadata": {},
     "output_type": "execute_result"
    }
   ],
   "source": [
    "police_calls_big_dataset.tail()"
   ]
  },
  {
   "cell_type": "code",
   "execution_count": 7,
   "metadata": {},
   "outputs": [
    {
     "name": "stdout",
     "output_type": "stream",
     "text": [
      "<class 'pandas.core.frame.DataFrame'>\n",
      "Int64Index: 1686084 entries, 1588528 to 98443\n",
      "Data columns (total 8 columns):\n",
      " #   Column               Non-Null Count    Dtype \n",
      "---  ------               --------------    ----- \n",
      " 0   date_time            1686084 non-null  object\n",
      " 1   day_of_week          1686084 non-null  int64 \n",
      " 2   call_type            1684494 non-null  object\n",
      " 3   disposition          1686084 non-null  object\n",
      " 4   priority             1686084 non-null  int64 \n",
      " 5   description          1686084 non-null  object\n",
      " 6   neighborhood         1686084 non-null  object\n",
      " 7   address_sfx_primary  1558164 non-null  object\n",
      "dtypes: int64(2), object(6)\n",
      "memory usage: 115.8+ MB\n"
     ]
    }
   ],
   "source": [
    "police_calls_big_dataset.info()"
   ]
  },
  {
   "cell_type": "markdown",
   "metadata": {},
   "source": [
    "### Lets get a sense of the dataset/Data Visualization:"
   ]
  },
  {
   "cell_type": "code",
   "execution_count": 8,
   "metadata": {},
   "outputs": [
    {
     "data": {
      "text/html": [
       "<div>\n",
       "<style scoped>\n",
       "    .dataframe tbody tr th:only-of-type {\n",
       "        vertical-align: middle;\n",
       "    }\n",
       "\n",
       "    .dataframe tbody tr th {\n",
       "        vertical-align: top;\n",
       "    }\n",
       "\n",
       "    .dataframe thead th {\n",
       "        text-align: right;\n",
       "    }\n",
       "</style>\n",
       "<table border=\"1\" class=\"dataframe\">\n",
       "  <thead>\n",
       "    <tr style=\"text-align: right;\">\n",
       "      <th></th>\n",
       "      <th>day_of_week</th>\n",
       "      <th>priority</th>\n",
       "    </tr>\n",
       "  </thead>\n",
       "  <tbody>\n",
       "    <tr>\n",
       "      <th>count</th>\n",
       "      <td>1.686084e+06</td>\n",
       "      <td>1.686084e+06</td>\n",
       "    </tr>\n",
       "    <tr>\n",
       "      <th>mean</th>\n",
       "      <td>4.048520e+00</td>\n",
       "      <td>2.172195e+00</td>\n",
       "    </tr>\n",
       "    <tr>\n",
       "      <th>std</th>\n",
       "      <td>1.959725e+00</td>\n",
       "      <td>1.359285e+00</td>\n",
       "    </tr>\n",
       "    <tr>\n",
       "      <th>min</th>\n",
       "      <td>1.000000e+00</td>\n",
       "      <td>0.000000e+00</td>\n",
       "    </tr>\n",
       "    <tr>\n",
       "      <th>25%</th>\n",
       "      <td>2.000000e+00</td>\n",
       "      <td>1.000000e+00</td>\n",
       "    </tr>\n",
       "    <tr>\n",
       "      <th>50%</th>\n",
       "      <td>4.000000e+00</td>\n",
       "      <td>2.000000e+00</td>\n",
       "    </tr>\n",
       "    <tr>\n",
       "      <th>75%</th>\n",
       "      <td>6.000000e+00</td>\n",
       "      <td>3.000000e+00</td>\n",
       "    </tr>\n",
       "    <tr>\n",
       "      <th>max</th>\n",
       "      <td>7.000000e+00</td>\n",
       "      <td>9.000000e+00</td>\n",
       "    </tr>\n",
       "  </tbody>\n",
       "</table>\n",
       "</div>"
      ],
      "text/plain": [
       "        day_of_week      priority\n",
       "count  1.686084e+06  1.686084e+06\n",
       "mean   4.048520e+00  2.172195e+00\n",
       "std    1.959725e+00  1.359285e+00\n",
       "min    1.000000e+00  0.000000e+00\n",
       "25%    2.000000e+00  1.000000e+00\n",
       "50%    4.000000e+00  2.000000e+00\n",
       "75%    6.000000e+00  3.000000e+00\n",
       "max    7.000000e+00  9.000000e+00"
      ]
     },
     "execution_count": 8,
     "metadata": {},
     "output_type": "execute_result"
    }
   ],
   "source": [
    "police_calls_big_dataset.describe()"
   ]
  },
  {
   "cell_type": "code",
   "execution_count": 9,
   "metadata": {},
   "outputs": [
    {
     "data": {
      "text/plain": [
       "date_time                   0\n",
       "day_of_week                 0\n",
       "call_type                1590\n",
       "disposition                 0\n",
       "priority                    0\n",
       "description                 0\n",
       "neighborhood                0\n",
       "address_sfx_primary    127920\n",
       "dtype: int64"
      ]
     },
     "execution_count": 9,
     "metadata": {},
     "output_type": "execute_result"
    }
   ],
   "source": [
    "## Number of nulls in dataset\n",
    "police_calls_big_dataset.isnull().sum()"
   ]
  },
  {
   "cell_type": "code",
   "execution_count": 10,
   "metadata": {},
   "outputs": [
    {
     "data": {
      "text/html": [
       "<div>\n",
       "<style scoped>\n",
       "    .dataframe tbody tr th:only-of-type {\n",
       "        vertical-align: middle;\n",
       "    }\n",
       "\n",
       "    .dataframe tbody tr th {\n",
       "        vertical-align: top;\n",
       "    }\n",
       "\n",
       "    .dataframe thead th {\n",
       "        text-align: right;\n",
       "    }\n",
       "</style>\n",
       "<table border=\"1\" class=\"dataframe\">\n",
       "  <thead>\n",
       "    <tr style=\"text-align: right;\">\n",
       "      <th></th>\n",
       "      <th>day_of_week</th>\n",
       "      <th>priority</th>\n",
       "    </tr>\n",
       "    <tr>\n",
       "      <th>call_type</th>\n",
       "      <th></th>\n",
       "      <th></th>\n",
       "    </tr>\n",
       "  </thead>\n",
       "  <tbody>\n",
       "    <tr>\n",
       "      <th>1016</th>\n",
       "      <td>71515</td>\n",
       "      <td>33844</td>\n",
       "    </tr>\n",
       "    <tr>\n",
       "      <th>1016P</th>\n",
       "      <td>49</td>\n",
       "      <td>22</td>\n",
       "    </tr>\n",
       "    <tr>\n",
       "      <th>1016PT</th>\n",
       "      <td>288</td>\n",
       "      <td>114</td>\n",
       "    </tr>\n",
       "    <tr>\n",
       "      <th>1016QC</th>\n",
       "      <td>171</td>\n",
       "      <td>78</td>\n",
       "    </tr>\n",
       "    <tr>\n",
       "      <th>1021</th>\n",
       "      <td>58426</td>\n",
       "      <td>43502</td>\n",
       "    </tr>\n",
       "    <tr>\n",
       "      <th>...</th>\n",
       "      <td>...</td>\n",
       "      <td>...</td>\n",
       "    </tr>\n",
       "    <tr>\n",
       "      <th>TLO</th>\n",
       "      <td>918</td>\n",
       "      <td>229</td>\n",
       "    </tr>\n",
       "    <tr>\n",
       "      <th>TP</th>\n",
       "      <td>1918</td>\n",
       "      <td>0</td>\n",
       "    </tr>\n",
       "    <tr>\n",
       "      <th>TRO</th>\n",
       "      <td>9398</td>\n",
       "      <td>6981</td>\n",
       "    </tr>\n",
       "    <tr>\n",
       "      <th>WARRANT</th>\n",
       "      <td>4078</td>\n",
       "      <td>2860</td>\n",
       "    </tr>\n",
       "    <tr>\n",
       "      <th>found</th>\n",
       "      <td>3</td>\n",
       "      <td>4</td>\n",
       "    </tr>\n",
       "  </tbody>\n",
       "</table>\n",
       "<p>255 rows × 2 columns</p>\n",
       "</div>"
      ],
      "text/plain": [
       "           day_of_week  priority\n",
       "call_type                       \n",
       "1016             71515     33844\n",
       "1016P               49        22\n",
       "1016PT             288       114\n",
       "1016QC             171        78\n",
       "1021             58426     43502\n",
       "...                ...       ...\n",
       "TLO                918       229\n",
       "TP                1918         0\n",
       "TRO               9398      6981\n",
       "WARRANT           4078      2860\n",
       "found                3         4\n",
       "\n",
       "[255 rows x 2 columns]"
      ]
     },
     "execution_count": 10,
     "metadata": {},
     "output_type": "execute_result"
    }
   ],
   "source": [
    "## Pull up all the ones that are null call types \n",
    "police_calls_big_dataset.groupby(by=[\"call_type\"]).sum()"
   ]
  },
  {
   "cell_type": "code",
   "execution_count": 11,
   "metadata": {},
   "outputs": [
    {
     "data": {
      "text/plain": [
       "date_time              object\n",
       "day_of_week             int64\n",
       "call_type              object\n",
       "disposition            object\n",
       "priority                int64\n",
       "description            object\n",
       "neighborhood           object\n",
       "address_sfx_primary    object\n",
       "dtype: object"
      ]
     },
     "execution_count": 11,
     "metadata": {},
     "output_type": "execute_result"
    }
   ],
   "source": [
    "# checking the Data type\n",
    "police_calls_big_dataset.dtypes"
   ]
  },
  {
   "cell_type": "code",
   "execution_count": 12,
   "metadata": {},
   "outputs": [
    {
     "data": {
      "image/png": "[encoded data removed]",
      "text/plain": [
       "<Figure size 1080x720 with 4 Axes>"
      ]
     },
     "metadata": {
      "needs_background": "light"
     },
     "output_type": "display_data"
    }
   ],
   "source": [
    "# First look at the scatter matrix \n",
    "scatter = pd.plotting.scatter_matrix(police_calls_big_dataset, figsize= (15,10))"
   ]
  },
  {
   "cell_type": "code",
   "execution_count": 13,
   "metadata": {},
   "outputs": [
    {
     "data": {
      "text/plain": [
       "<AxesSubplot:xlabel='day_of_week'>"
      ]
     },
     "execution_count": 13,
     "metadata": {},
     "output_type": "execute_result"
    },
    {
     "data": {
      "image/png": "[encoded data removed]",
      "text/plain": [
       "<Figure size 432x288 with 1 Axes>"
      ]
     },
     "metadata": {
      "needs_background": "light"
     },
     "output_type": "display_data"
    }
   ],
   "source": [
    "# look at the day of week  distribution \n",
    "sns.boxplot(x=police_calls_big_dataset['day_of_week'])"
   ]
  },
  {
   "cell_type": "code",
   "execution_count": 14,
   "metadata": {},
   "outputs": [
    {
     "data": {
      "text/html": [
       "<div>\n",
       "<style scoped>\n",
       "    .dataframe tbody tr th:only-of-type {\n",
       "        vertical-align: middle;\n",
       "    }\n",
       "\n",
       "    .dataframe tbody tr th {\n",
       "        vertical-align: top;\n",
       "    }\n",
       "\n",
       "    .dataframe thead th {\n",
       "        text-align: right;\n",
       "    }\n",
       "</style>\n",
       "<table border=\"1\" class=\"dataframe\">\n",
       "  <thead>\n",
       "    <tr style=\"text-align: right;\">\n",
       "      <th></th>\n",
       "      <th>day_of_week</th>\n",
       "      <th>priority</th>\n",
       "    </tr>\n",
       "  </thead>\n",
       "  <tbody>\n",
       "    <tr>\n",
       "      <th>count</th>\n",
       "      <td>1.686084e+06</td>\n",
       "      <td>1.686084e+06</td>\n",
       "    </tr>\n",
       "    <tr>\n",
       "      <th>mean</th>\n",
       "      <td>4.048520e+00</td>\n",
       "      <td>2.172195e+00</td>\n",
       "    </tr>\n",
       "    <tr>\n",
       "      <th>std</th>\n",
       "      <td>1.959725e+00</td>\n",
       "      <td>1.359285e+00</td>\n",
       "    </tr>\n",
       "    <tr>\n",
       "      <th>min</th>\n",
       "      <td>1.000000e+00</td>\n",
       "      <td>0.000000e+00</td>\n",
       "    </tr>\n",
       "    <tr>\n",
       "      <th>25%</th>\n",
       "      <td>2.000000e+00</td>\n",
       "      <td>1.000000e+00</td>\n",
       "    </tr>\n",
       "    <tr>\n",
       "      <th>50%</th>\n",
       "      <td>4.000000e+00</td>\n",
       "      <td>2.000000e+00</td>\n",
       "    </tr>\n",
       "    <tr>\n",
       "      <th>75%</th>\n",
       "      <td>6.000000e+00</td>\n",
       "      <td>3.000000e+00</td>\n",
       "    </tr>\n",
       "    <tr>\n",
       "      <th>max</th>\n",
       "      <td>7.000000e+00</td>\n",
       "      <td>9.000000e+00</td>\n",
       "    </tr>\n",
       "  </tbody>\n",
       "</table>\n",
       "</div>"
      ],
      "text/plain": [
       "        day_of_week      priority\n",
       "count  1.686084e+06  1.686084e+06\n",
       "mean   4.048520e+00  2.172195e+00\n",
       "std    1.959725e+00  1.359285e+00\n",
       "min    1.000000e+00  0.000000e+00\n",
       "25%    2.000000e+00  1.000000e+00\n",
       "50%    4.000000e+00  2.000000e+00\n",
       "75%    6.000000e+00  3.000000e+00\n",
       "max    7.000000e+00  9.000000e+00"
      ]
     },
     "execution_count": 14,
     "metadata": {},
     "output_type": "execute_result"
    }
   ],
   "source": [
    "police_calls_big_dataset.describe()"
   ]
  },
  {
   "cell_type": "code",
   "execution_count": 15,
   "metadata": {},
   "outputs": [
    {
     "name": "stderr",
     "output_type": "stream",
     "text": [
      "C:\\Users\\siddu\\AppData\\Local\\Temp\\ipykernel_15256\\1663241893.py:1: FutureWarning: Dropping of nuisance columns in DataFrame reductions (with 'numeric_only=None') is deprecated; in a future version this will raise TypeError.  Select only valid columns before calling the reduction.\n",
      "  police_calls_big_dataset.median()\n"
     ]
    },
    {
     "data": {
      "text/plain": [
       "day_of_week    4.0\n",
       "priority       2.0\n",
       "dtype: float64"
      ]
     },
     "execution_count": 15,
     "metadata": {},
     "output_type": "execute_result"
    }
   ],
   "source": [
    "police_calls_big_dataset.median()"
   ]
  },
  {
   "cell_type": "markdown",
   "metadata": {},
   "source": [
    "##  Linear Regression Model for predicting call volume at a given hour of the day "
   ]
  },
  {
   "cell_type": "code",
   "execution_count": 16,
   "metadata": {
    "scrolled": true
   },
   "outputs": [
    {
     "data": {
      "text/html": [
       "<div>\n",
       "<style scoped>\n",
       "    .dataframe tbody tr th:only-of-type {\n",
       "        vertical-align: middle;\n",
       "    }\n",
       "\n",
       "    .dataframe tbody tr th {\n",
       "        vertical-align: top;\n",
       "    }\n",
       "\n",
       "    .dataframe thead th {\n",
       "        text-align: right;\n",
       "    }\n",
       "</style>\n",
       "<table border=\"1\" class=\"dataframe\">\n",
       "  <thead>\n",
       "    <tr style=\"text-align: right;\">\n",
       "      <th></th>\n",
       "      <th>date_time</th>\n",
       "      <th>day_of_week</th>\n",
       "      <th>call_type</th>\n",
       "      <th>disposition</th>\n",
       "      <th>priority</th>\n",
       "      <th>description</th>\n",
       "      <th>neighborhood</th>\n",
       "      <th>address_sfx_primary</th>\n",
       "    </tr>\n",
       "  </thead>\n",
       "  <tbody>\n",
       "    <tr>\n",
       "      <th>1588528</th>\n",
       "      <td>2020-12-18 16:05:59</td>\n",
       "      <td>6</td>\n",
       "      <td>530</td>\n",
       "      <td>R</td>\n",
       "      <td>9</td>\n",
       "      <td>REPORT</td>\n",
       "      <td>Cherokee Point</td>\n",
       "      <td>ST</td>\n",
       "    </tr>\n",
       "    <tr>\n",
       "      <th>1067134</th>\n",
       "      <td>2021-06-05 13:26:54</td>\n",
       "      <td>7</td>\n",
       "      <td>10852R</td>\n",
       "      <td>R</td>\n",
       "      <td>9</td>\n",
       "      <td>REPORT</td>\n",
       "      <td>Bay Park</td>\n",
       "      <td>ST</td>\n",
       "    </tr>\n",
       "    <tr>\n",
       "      <th>890896</th>\n",
       "      <td>2021-10-13 12:10:07</td>\n",
       "      <td>4</td>\n",
       "      <td>653M</td>\n",
       "      <td>K</td>\n",
       "      <td>9</td>\n",
       "      <td>NO REPORT REQUIRED</td>\n",
       "      <td>Fairmount Village</td>\n",
       "      <td>ST</td>\n",
       "    </tr>\n",
       "    <tr>\n",
       "      <th>1067142</th>\n",
       "      <td>2021-06-14 14:05:29</td>\n",
       "      <td>2</td>\n",
       "      <td>488R</td>\n",
       "      <td>R</td>\n",
       "      <td>9</td>\n",
       "      <td>REPORT</td>\n",
       "      <td>Bay Park</td>\n",
       "      <td>ST</td>\n",
       "    </tr>\n",
       "    <tr>\n",
       "      <th>1428628</th>\n",
       "      <td>2021-10-06 16:24:28</td>\n",
       "      <td>4</td>\n",
       "      <td>530</td>\n",
       "      <td>R</td>\n",
       "      <td>9</td>\n",
       "      <td>REPORT</td>\n",
       "      <td>Chollas Creek</td>\n",
       "      <td>AVE</td>\n",
       "    </tr>\n",
       "    <tr>\n",
       "      <th>...</th>\n",
       "      <td>...</td>\n",
       "      <td>...</td>\n",
       "      <td>...</td>\n",
       "      <td>...</td>\n",
       "      <td>...</td>\n",
       "      <td>...</td>\n",
       "      <td>...</td>\n",
       "      <td>...</td>\n",
       "    </tr>\n",
       "    <tr>\n",
       "      <th>1156618</th>\n",
       "      <td>2021-01-28 09:13:16</td>\n",
       "      <td>5</td>\n",
       "      <td>1183</td>\n",
       "      <td>R</td>\n",
       "      <td>0</td>\n",
       "      <td>REPORT</td>\n",
       "      <td>Golden Hill</td>\n",
       "      <td>ST</td>\n",
       "    </tr>\n",
       "    <tr>\n",
       "      <th>870004</th>\n",
       "      <td>2021-02-01 07:11:31</td>\n",
       "      <td>2</td>\n",
       "      <td>245</td>\n",
       "      <td>R</td>\n",
       "      <td>0</td>\n",
       "      <td>REPORT</td>\n",
       "      <td>North Park</td>\n",
       "      <td>ST</td>\n",
       "    </tr>\n",
       "    <tr>\n",
       "      <th>203142</th>\n",
       "      <td>2020-06-29 17:24:04</td>\n",
       "      <td>2</td>\n",
       "      <td>1183</td>\n",
       "      <td>K</td>\n",
       "      <td>0</td>\n",
       "      <td>NO REPORT REQUIRED</td>\n",
       "      <td>Pacific Beach</td>\n",
       "      <td>ST</td>\n",
       "    </tr>\n",
       "    <tr>\n",
       "      <th>1315951</th>\n",
       "      <td>2022-05-06 15:27:11</td>\n",
       "      <td>6</td>\n",
       "      <td>11-8</td>\n",
       "      <td>K</td>\n",
       "      <td>0</td>\n",
       "      <td>NO REPORT REQUIRED</td>\n",
       "      <td>Teralta West</td>\n",
       "      <td>ST</td>\n",
       "    </tr>\n",
       "    <tr>\n",
       "      <th>98443</th>\n",
       "      <td>2021-03-16 16:41:28</td>\n",
       "      <td>3</td>\n",
       "      <td>10852</td>\n",
       "      <td>K</td>\n",
       "      <td>0</td>\n",
       "      <td>NO REPORT REQUIRED</td>\n",
       "      <td>East Village</td>\n",
       "      <td>AVE</td>\n",
       "    </tr>\n",
       "  </tbody>\n",
       "</table>\n",
       "<p>1686084 rows × 8 columns</p>\n",
       "</div>"
      ],
      "text/plain": [
       "                   date_time  day_of_week call_type disposition  priority  \\\n",
       "1588528  2020-12-18 16:05:59            6       530           R         9   \n",
       "1067134  2021-06-05 13:26:54            7    10852R           R         9   \n",
       "890896   2021-10-13 12:10:07            4      653M           K         9   \n",
       "1067142  2021-06-14 14:05:29            2      488R           R         9   \n",
       "1428628  2021-10-06 16:24:28            4       530           R         9   \n",
       "...                      ...          ...       ...         ...       ...   \n",
       "1156618  2021-01-28 09:13:16            5      1183           R         0   \n",
       "870004   2021-02-01 07:11:31            2       245           R         0   \n",
       "203142   2020-06-29 17:24:04            2      1183           K         0   \n",
       "1315951  2022-05-06 15:27:11            6      11-8           K         0   \n",
       "98443    2021-03-16 16:41:28            3     10852           K         0   \n",
       "\n",
       "                description       neighborhood address_sfx_primary  \n",
       "1588528              REPORT     Cherokee Point                  ST  \n",
       "1067134              REPORT           Bay Park                  ST  \n",
       "890896   NO REPORT REQUIRED  Fairmount Village                  ST  \n",
       "1067142              REPORT           Bay Park                  ST  \n",
       "1428628              REPORT      Chollas Creek                 AVE  \n",
       "...                     ...                ...                 ...  \n",
       "1156618              REPORT        Golden Hill                  ST  \n",
       "870004               REPORT         North Park                  ST  \n",
       "203142   NO REPORT REQUIRED      Pacific Beach                  ST  \n",
       "1315951  NO REPORT REQUIRED       Teralta West                  ST  \n",
       "98443    NO REPORT REQUIRED       East Village                 AVE  \n",
       "\n",
       "[1686084 rows x 8 columns]"
      ]
     },
     "execution_count": 16,
     "metadata": {},
     "output_type": "execute_result"
    }
   ],
   "source": [
    "#Main dataframe\n",
    "df = police_calls_big_dataset \n",
    "df"
   ]
  },
  {
   "cell_type": "code",
   "execution_count": 17,
   "metadata": {},
   "outputs": [
    {
     "data": {
      "text/html": [
       "<div>\n",
       "<style scoped>\n",
       "    .dataframe tbody tr th:only-of-type {\n",
       "        vertical-align: middle;\n",
       "    }\n",
       "\n",
       "    .dataframe tbody tr th {\n",
       "        vertical-align: top;\n",
       "    }\n",
       "\n",
       "    .dataframe thead th {\n",
       "        text-align: right;\n",
       "    }\n",
       "</style>\n",
       "<table border=\"1\" class=\"dataframe\">\n",
       "  <thead>\n",
       "    <tr style=\"text-align: right;\">\n",
       "      <th></th>\n",
       "      <th>date_time</th>\n",
       "      <th>day_of_week</th>\n",
       "      <th>call_type</th>\n",
       "      <th>disposition</th>\n",
       "      <th>priority</th>\n",
       "      <th>description</th>\n",
       "      <th>neighborhood</th>\n",
       "      <th>address_sfx_primary</th>\n",
       "    </tr>\n",
       "  </thead>\n",
       "  <tbody>\n",
       "    <tr>\n",
       "      <th>1588528</th>\n",
       "      <td>2020-12-18 16:05:59</td>\n",
       "      <td>6</td>\n",
       "      <td>530</td>\n",
       "      <td>R</td>\n",
       "      <td>9</td>\n",
       "      <td>REPORT</td>\n",
       "      <td>Cherokee Point</td>\n",
       "      <td>ST</td>\n",
       "    </tr>\n",
       "    <tr>\n",
       "      <th>1067134</th>\n",
       "      <td>2021-06-05 13:26:54</td>\n",
       "      <td>7</td>\n",
       "      <td>10852R</td>\n",
       "      <td>R</td>\n",
       "      <td>9</td>\n",
       "      <td>REPORT</td>\n",
       "      <td>Bay Park</td>\n",
       "      <td>ST</td>\n",
       "    </tr>\n",
       "    <tr>\n",
       "      <th>890896</th>\n",
       "      <td>2021-10-13 12:10:07</td>\n",
       "      <td>4</td>\n",
       "      <td>653M</td>\n",
       "      <td>K</td>\n",
       "      <td>9</td>\n",
       "      <td>NO REPORT REQUIRED</td>\n",
       "      <td>Fairmount Village</td>\n",
       "      <td>ST</td>\n",
       "    </tr>\n",
       "    <tr>\n",
       "      <th>1067142</th>\n",
       "      <td>2021-06-14 14:05:29</td>\n",
       "      <td>2</td>\n",
       "      <td>488R</td>\n",
       "      <td>R</td>\n",
       "      <td>9</td>\n",
       "      <td>REPORT</td>\n",
       "      <td>Bay Park</td>\n",
       "      <td>ST</td>\n",
       "    </tr>\n",
       "    <tr>\n",
       "      <th>1428628</th>\n",
       "      <td>2021-10-06 16:24:28</td>\n",
       "      <td>4</td>\n",
       "      <td>530</td>\n",
       "      <td>R</td>\n",
       "      <td>9</td>\n",
       "      <td>REPORT</td>\n",
       "      <td>Chollas Creek</td>\n",
       "      <td>AVE</td>\n",
       "    </tr>\n",
       "    <tr>\n",
       "      <th>...</th>\n",
       "      <td>...</td>\n",
       "      <td>...</td>\n",
       "      <td>...</td>\n",
       "      <td>...</td>\n",
       "      <td>...</td>\n",
       "      <td>...</td>\n",
       "      <td>...</td>\n",
       "      <td>...</td>\n",
       "    </tr>\n",
       "    <tr>\n",
       "      <th>1156618</th>\n",
       "      <td>2021-01-28 09:13:16</td>\n",
       "      <td>5</td>\n",
       "      <td>1183</td>\n",
       "      <td>R</td>\n",
       "      <td>0</td>\n",
       "      <td>REPORT</td>\n",
       "      <td>Golden Hill</td>\n",
       "      <td>ST</td>\n",
       "    </tr>\n",
       "    <tr>\n",
       "      <th>870004</th>\n",
       "      <td>2021-02-01 07:11:31</td>\n",
       "      <td>2</td>\n",
       "      <td>245</td>\n",
       "      <td>R</td>\n",
       "      <td>0</td>\n",
       "      <td>REPORT</td>\n",
       "      <td>North Park</td>\n",
       "      <td>ST</td>\n",
       "    </tr>\n",
       "    <tr>\n",
       "      <th>203142</th>\n",
       "      <td>2020-06-29 17:24:04</td>\n",
       "      <td>2</td>\n",
       "      <td>1183</td>\n",
       "      <td>K</td>\n",
       "      <td>0</td>\n",
       "      <td>NO REPORT REQUIRED</td>\n",
       "      <td>Pacific Beach</td>\n",
       "      <td>ST</td>\n",
       "    </tr>\n",
       "    <tr>\n",
       "      <th>1315951</th>\n",
       "      <td>2022-05-06 15:27:11</td>\n",
       "      <td>6</td>\n",
       "      <td>11-8</td>\n",
       "      <td>K</td>\n",
       "      <td>0</td>\n",
       "      <td>NO REPORT REQUIRED</td>\n",
       "      <td>Teralta West</td>\n",
       "      <td>ST</td>\n",
       "    </tr>\n",
       "    <tr>\n",
       "      <th>98443</th>\n",
       "      <td>2021-03-16 16:41:28</td>\n",
       "      <td>3</td>\n",
       "      <td>10852</td>\n",
       "      <td>K</td>\n",
       "      <td>0</td>\n",
       "      <td>NO REPORT REQUIRED</td>\n",
       "      <td>East Village</td>\n",
       "      <td>AVE</td>\n",
       "    </tr>\n",
       "  </tbody>\n",
       "</table>\n",
       "<p>1686084 rows × 8 columns</p>\n",
       "</div>"
      ],
      "text/plain": [
       "                  date_time  day_of_week call_type disposition  priority  \\\n",
       "1588528 2020-12-18 16:05:59            6       530           R         9   \n",
       "1067134 2021-06-05 13:26:54            7    10852R           R         9   \n",
       "890896  2021-10-13 12:10:07            4      653M           K         9   \n",
       "1067142 2021-06-14 14:05:29            2      488R           R         9   \n",
       "1428628 2021-10-06 16:24:28            4       530           R         9   \n",
       "...                     ...          ...       ...         ...       ...   \n",
       "1156618 2021-01-28 09:13:16            5      1183           R         0   \n",
       "870004  2021-02-01 07:11:31            2       245           R         0   \n",
       "203142  2020-06-29 17:24:04            2      1183           K         0   \n",
       "1315951 2022-05-06 15:27:11            6      11-8           K         0   \n",
       "98443   2021-03-16 16:41:28            3     10852           K         0   \n",
       "\n",
       "                description       neighborhood address_sfx_primary  \n",
       "1588528              REPORT     Cherokee Point                  ST  \n",
       "1067134              REPORT           Bay Park                  ST  \n",
       "890896   NO REPORT REQUIRED  Fairmount Village                  ST  \n",
       "1067142              REPORT           Bay Park                  ST  \n",
       "1428628              REPORT      Chollas Creek                 AVE  \n",
       "...                     ...                ...                 ...  \n",
       "1156618              REPORT        Golden Hill                  ST  \n",
       "870004               REPORT         North Park                  ST  \n",
       "203142   NO REPORT REQUIRED      Pacific Beach                  ST  \n",
       "1315951  NO REPORT REQUIRED       Teralta West                  ST  \n",
       "98443    NO REPORT REQUIRED       East Village                 AVE  \n",
       "\n",
       "[1686084 rows x 8 columns]"
      ]
     },
     "execution_count": 17,
     "metadata": {},
     "output_type": "execute_result"
    }
   ],
   "source": [
    "#converting the values in date_time column to datetime objects\n",
    "df['date_time'] = pd.to_datetime(df['date_time']) \n",
    "df"
   ]
  },
  {
   "cell_type": "code",
   "execution_count": 18,
   "metadata": {},
   "outputs": [
    {
     "data": {
      "text/html": [
       "<div>\n",
       "<style scoped>\n",
       "    .dataframe tbody tr th:only-of-type {\n",
       "        vertical-align: middle;\n",
       "    }\n",
       "\n",
       "    .dataframe tbody tr th {\n",
       "        vertical-align: top;\n",
       "    }\n",
       "\n",
       "    .dataframe thead th {\n",
       "        text-align: right;\n",
       "    }\n",
       "</style>\n",
       "<table border=\"1\" class=\"dataframe\">\n",
       "  <thead>\n",
       "    <tr style=\"text-align: right;\">\n",
       "      <th></th>\n",
       "      <th>date_time</th>\n",
       "      <th>day_of_week</th>\n",
       "      <th>call_type</th>\n",
       "      <th>disposition</th>\n",
       "      <th>priority</th>\n",
       "      <th>description</th>\n",
       "      <th>neighborhood</th>\n",
       "      <th>address_sfx_primary</th>\n",
       "      <th>hour</th>\n",
       "    </tr>\n",
       "  </thead>\n",
       "  <tbody>\n",
       "    <tr>\n",
       "      <th>1588528</th>\n",
       "      <td>2020-12-18 16:05:59</td>\n",
       "      <td>6</td>\n",
       "      <td>530</td>\n",
       "      <td>R</td>\n",
       "      <td>9</td>\n",
       "      <td>REPORT</td>\n",
       "      <td>Cherokee Point</td>\n",
       "      <td>ST</td>\n",
       "      <td>16</td>\n",
       "    </tr>\n",
       "    <tr>\n",
       "      <th>1067134</th>\n",
       "      <td>2021-06-05 13:26:54</td>\n",
       "      <td>7</td>\n",
       "      <td>10852R</td>\n",
       "      <td>R</td>\n",
       "      <td>9</td>\n",
       "      <td>REPORT</td>\n",
       "      <td>Bay Park</td>\n",
       "      <td>ST</td>\n",
       "      <td>13</td>\n",
       "    </tr>\n",
       "    <tr>\n",
       "      <th>890896</th>\n",
       "      <td>2021-10-13 12:10:07</td>\n",
       "      <td>4</td>\n",
       "      <td>653M</td>\n",
       "      <td>K</td>\n",
       "      <td>9</td>\n",
       "      <td>NO REPORT REQUIRED</td>\n",
       "      <td>Fairmount Village</td>\n",
       "      <td>ST</td>\n",
       "      <td>12</td>\n",
       "    </tr>\n",
       "    <tr>\n",
       "      <th>1067142</th>\n",
       "      <td>2021-06-14 14:05:29</td>\n",
       "      <td>2</td>\n",
       "      <td>488R</td>\n",
       "      <td>R</td>\n",
       "      <td>9</td>\n",
       "      <td>REPORT</td>\n",
       "      <td>Bay Park</td>\n",
       "      <td>ST</td>\n",
       "      <td>14</td>\n",
       "    </tr>\n",
       "    <tr>\n",
       "      <th>1428628</th>\n",
       "      <td>2021-10-06 16:24:28</td>\n",
       "      <td>4</td>\n",
       "      <td>530</td>\n",
       "      <td>R</td>\n",
       "      <td>9</td>\n",
       "      <td>REPORT</td>\n",
       "      <td>Chollas Creek</td>\n",
       "      <td>AVE</td>\n",
       "      <td>16</td>\n",
       "    </tr>\n",
       "    <tr>\n",
       "      <th>...</th>\n",
       "      <td>...</td>\n",
       "      <td>...</td>\n",
       "      <td>...</td>\n",
       "      <td>...</td>\n",
       "      <td>...</td>\n",
       "      <td>...</td>\n",
       "      <td>...</td>\n",
       "      <td>...</td>\n",
       "      <td>...</td>\n",
       "    </tr>\n",
       "    <tr>\n",
       "      <th>1156618</th>\n",
       "      <td>2021-01-28 09:13:16</td>\n",
       "      <td>5</td>\n",
       "      <td>1183</td>\n",
       "      <td>R</td>\n",
       "      <td>0</td>\n",
       "      <td>REPORT</td>\n",
       "      <td>Golden Hill</td>\n",
       "      <td>ST</td>\n",
       "      <td>9</td>\n",
       "    </tr>\n",
       "    <tr>\n",
       "      <th>870004</th>\n",
       "      <td>2021-02-01 07:11:31</td>\n",
       "      <td>2</td>\n",
       "      <td>245</td>\n",
       "      <td>R</td>\n",
       "      <td>0</td>\n",
       "      <td>REPORT</td>\n",
       "      <td>North Park</td>\n",
       "      <td>ST</td>\n",
       "      <td>7</td>\n",
       "    </tr>\n",
       "    <tr>\n",
       "      <th>203142</th>\n",
       "      <td>2020-06-29 17:24:04</td>\n",
       "      <td>2</td>\n",
       "      <td>1183</td>\n",
       "      <td>K</td>\n",
       "      <td>0</td>\n",
       "      <td>NO REPORT REQUIRED</td>\n",
       "      <td>Pacific Beach</td>\n",
       "      <td>ST</td>\n",
       "      <td>17</td>\n",
       "    </tr>\n",
       "    <tr>\n",
       "      <th>1315951</th>\n",
       "      <td>2022-05-06 15:27:11</td>\n",
       "      <td>6</td>\n",
       "      <td>11-8</td>\n",
       "      <td>K</td>\n",
       "      <td>0</td>\n",
       "      <td>NO REPORT REQUIRED</td>\n",
       "      <td>Teralta West</td>\n",
       "      <td>ST</td>\n",
       "      <td>15</td>\n",
       "    </tr>\n",
       "    <tr>\n",
       "      <th>98443</th>\n",
       "      <td>2021-03-16 16:41:28</td>\n",
       "      <td>3</td>\n",
       "      <td>10852</td>\n",
       "      <td>K</td>\n",
       "      <td>0</td>\n",
       "      <td>NO REPORT REQUIRED</td>\n",
       "      <td>East Village</td>\n",
       "      <td>AVE</td>\n",
       "      <td>16</td>\n",
       "    </tr>\n",
       "  </tbody>\n",
       "</table>\n",
       "<p>1686084 rows × 9 columns</p>\n",
       "</div>"
      ],
      "text/plain": [
       "                  date_time  day_of_week call_type disposition  priority  \\\n",
       "1588528 2020-12-18 16:05:59            6       530           R         9   \n",
       "1067134 2021-06-05 13:26:54            7    10852R           R         9   \n",
       "890896  2021-10-13 12:10:07            4      653M           K         9   \n",
       "1067142 2021-06-14 14:05:29            2      488R           R         9   \n",
       "1428628 2021-10-06 16:24:28            4       530           R         9   \n",
       "...                     ...          ...       ...         ...       ...   \n",
       "1156618 2021-01-28 09:13:16            5      1183           R         0   \n",
       "870004  2021-02-01 07:11:31            2       245           R         0   \n",
       "203142  2020-06-29 17:24:04            2      1183           K         0   \n",
       "1315951 2022-05-06 15:27:11            6      11-8           K         0   \n",
       "98443   2021-03-16 16:41:28            3     10852           K         0   \n",
       "\n",
       "                description       neighborhood address_sfx_primary  hour  \n",
       "1588528              REPORT     Cherokee Point                  ST    16  \n",
       "1067134              REPORT           Bay Park                  ST    13  \n",
       "890896   NO REPORT REQUIRED  Fairmount Village                  ST    12  \n",
       "1067142              REPORT           Bay Park                  ST    14  \n",
       "1428628              REPORT      Chollas Creek                 AVE    16  \n",
       "...                     ...                ...                 ...   ...  \n",
       "1156618              REPORT        Golden Hill                  ST     9  \n",
       "870004               REPORT         North Park                  ST     7  \n",
       "203142   NO REPORT REQUIRED      Pacific Beach                  ST    17  \n",
       "1315951  NO REPORT REQUIRED       Teralta West                  ST    15  \n",
       "98443    NO REPORT REQUIRED       East Village                 AVE    16  \n",
       "\n",
       "[1686084 rows x 9 columns]"
      ]
     },
     "execution_count": 18,
     "metadata": {},
     "output_type": "execute_result"
    }
   ],
   "source": [
    "df['hour'] = df['date_time'].dt.hour #Extracting the hour from the datatime objects in date_time column\n",
    "df"
   ]
  },
  {
   "cell_type": "code",
   "execution_count": 22,
   "metadata": {},
   "outputs": [
    {
     "data": {
      "text/html": [
       "<div>\n",
       "<style scoped>\n",
       "    .dataframe tbody tr th:only-of-type {\n",
       "        vertical-align: middle;\n",
       "    }\n",
       "\n",
       "    .dataframe tbody tr th {\n",
       "        vertical-align: top;\n",
       "    }\n",
       "\n",
       "    .dataframe thead th {\n",
       "        text-align: right;\n",
       "    }\n",
       "</style>\n",
       "<table border=\"1\" class=\"dataframe\">\n",
       "  <thead>\n",
       "    <tr style=\"text-align: right;\">\n",
       "      <th></th>\n",
       "      <th>date_time</th>\n",
       "      <th>day_of_week</th>\n",
       "      <th>call_type</th>\n",
       "      <th>disposition</th>\n",
       "      <th>priority</th>\n",
       "      <th>description</th>\n",
       "      <th>neighborhood</th>\n",
       "      <th>address_sfx_primary</th>\n",
       "      <th>hour</th>\n",
       "      <th>calls_at_hour</th>\n",
       "    </tr>\n",
       "  </thead>\n",
       "  <tbody>\n",
       "    <tr>\n",
       "      <th>1588528</th>\n",
       "      <td>2020-12-18 16:05:59</td>\n",
       "      <td>6</td>\n",
       "      <td>530</td>\n",
       "      <td>R</td>\n",
       "      <td>9</td>\n",
       "      <td>REPORT</td>\n",
       "      <td>Cherokee Point</td>\n",
       "      <td>ST</td>\n",
       "      <td>16</td>\n",
       "      <td>87246</td>\n",
       "    </tr>\n",
       "    <tr>\n",
       "      <th>1067134</th>\n",
       "      <td>2021-06-05 13:26:54</td>\n",
       "      <td>7</td>\n",
       "      <td>10852R</td>\n",
       "      <td>R</td>\n",
       "      <td>9</td>\n",
       "      <td>REPORT</td>\n",
       "      <td>Bay Park</td>\n",
       "      <td>ST</td>\n",
       "      <td>13</td>\n",
       "      <td>83222</td>\n",
       "    </tr>\n",
       "    <tr>\n",
       "      <th>890896</th>\n",
       "      <td>2021-10-13 12:10:07</td>\n",
       "      <td>4</td>\n",
       "      <td>653M</td>\n",
       "      <td>K</td>\n",
       "      <td>9</td>\n",
       "      <td>NO REPORT REQUIRED</td>\n",
       "      <td>Fairmount Village</td>\n",
       "      <td>ST</td>\n",
       "      <td>12</td>\n",
       "      <td>87132</td>\n",
       "    </tr>\n",
       "    <tr>\n",
       "      <th>1067142</th>\n",
       "      <td>2021-06-14 14:05:29</td>\n",
       "      <td>2</td>\n",
       "      <td>488R</td>\n",
       "      <td>R</td>\n",
       "      <td>9</td>\n",
       "      <td>REPORT</td>\n",
       "      <td>Bay Park</td>\n",
       "      <td>ST</td>\n",
       "      <td>14</td>\n",
       "      <td>85182</td>\n",
       "    </tr>\n",
       "    <tr>\n",
       "      <th>1428628</th>\n",
       "      <td>2021-10-06 16:24:28</td>\n",
       "      <td>4</td>\n",
       "      <td>530</td>\n",
       "      <td>R</td>\n",
       "      <td>9</td>\n",
       "      <td>REPORT</td>\n",
       "      <td>Chollas Creek</td>\n",
       "      <td>AVE</td>\n",
       "      <td>16</td>\n",
       "      <td>87246</td>\n",
       "    </tr>\n",
       "    <tr>\n",
       "      <th>...</th>\n",
       "      <td>...</td>\n",
       "      <td>...</td>\n",
       "      <td>...</td>\n",
       "      <td>...</td>\n",
       "      <td>...</td>\n",
       "      <td>...</td>\n",
       "      <td>...</td>\n",
       "      <td>...</td>\n",
       "      <td>...</td>\n",
       "      <td>...</td>\n",
       "    </tr>\n",
       "    <tr>\n",
       "      <th>1156618</th>\n",
       "      <td>2021-01-28 09:13:16</td>\n",
       "      <td>5</td>\n",
       "      <td>1183</td>\n",
       "      <td>R</td>\n",
       "      <td>0</td>\n",
       "      <td>REPORT</td>\n",
       "      <td>Golden Hill</td>\n",
       "      <td>ST</td>\n",
       "      <td>9</td>\n",
       "      <td>88730</td>\n",
       "    </tr>\n",
       "    <tr>\n",
       "      <th>870004</th>\n",
       "      <td>2021-02-01 07:11:31</td>\n",
       "      <td>2</td>\n",
       "      <td>245</td>\n",
       "      <td>R</td>\n",
       "      <td>0</td>\n",
       "      <td>REPORT</td>\n",
       "      <td>North Park</td>\n",
       "      <td>ST</td>\n",
       "      <td>7</td>\n",
       "      <td>80151</td>\n",
       "    </tr>\n",
       "    <tr>\n",
       "      <th>203142</th>\n",
       "      <td>2020-06-29 17:24:04</td>\n",
       "      <td>2</td>\n",
       "      <td>1183</td>\n",
       "      <td>K</td>\n",
       "      <td>0</td>\n",
       "      <td>NO REPORT REQUIRED</td>\n",
       "      <td>Pacific Beach</td>\n",
       "      <td>ST</td>\n",
       "      <td>17</td>\n",
       "      <td>79816</td>\n",
       "    </tr>\n",
       "    <tr>\n",
       "      <th>1315951</th>\n",
       "      <td>2022-05-06 15:27:11</td>\n",
       "      <td>6</td>\n",
       "      <td>11-8</td>\n",
       "      <td>K</td>\n",
       "      <td>0</td>\n",
       "      <td>NO REPORT REQUIRED</td>\n",
       "      <td>Teralta West</td>\n",
       "      <td>ST</td>\n",
       "      <td>15</td>\n",
       "      <td>86708</td>\n",
       "    </tr>\n",
       "    <tr>\n",
       "      <th>98443</th>\n",
       "      <td>2021-03-16 16:41:28</td>\n",
       "      <td>3</td>\n",
       "      <td>10852</td>\n",
       "      <td>K</td>\n",
       "      <td>0</td>\n",
       "      <td>NO REPORT REQUIRED</td>\n",
       "      <td>East Village</td>\n",
       "      <td>AVE</td>\n",
       "      <td>16</td>\n",
       "      <td>87246</td>\n",
       "    </tr>\n",
       "  </tbody>\n",
       "</table>\n",
       "<p>1686084 rows × 10 columns</p>\n",
       "</div>"
      ],
      "text/plain": [
       "                  date_time  day_of_week call_type disposition  priority  \\\n",
       "1588528 2020-12-18 16:05:59            6       530           R         9   \n",
       "1067134 2021-06-05 13:26:54            7    10852R           R         9   \n",
       "890896  2021-10-13 12:10:07            4      653M           K         9   \n",
       "1067142 2021-06-14 14:05:29            2      488R           R         9   \n",
       "1428628 2021-10-06 16:24:28            4       530           R         9   \n",
       "...                     ...          ...       ...         ...       ...   \n",
       "1156618 2021-01-28 09:13:16            5      1183           R         0   \n",
       "870004  2021-02-01 07:11:31            2       245           R         0   \n",
       "203142  2020-06-29 17:24:04            2      1183           K         0   \n",
       "1315951 2022-05-06 15:27:11            6      11-8           K         0   \n",
       "98443   2021-03-16 16:41:28            3     10852           K         0   \n",
       "\n",
       "                description       neighborhood address_sfx_primary  hour  \\\n",
       "1588528              REPORT     Cherokee Point                  ST    16   \n",
       "1067134              REPORT           Bay Park                  ST    13   \n",
       "890896   NO REPORT REQUIRED  Fairmount Village                  ST    12   \n",
       "1067142              REPORT           Bay Park                  ST    14   \n",
       "1428628              REPORT      Chollas Creek                 AVE    16   \n",
       "...                     ...                ...                 ...   ...   \n",
       "1156618              REPORT        Golden Hill                  ST     9   \n",
       "870004               REPORT         North Park                  ST     7   \n",
       "203142   NO REPORT REQUIRED      Pacific Beach                  ST    17   \n",
       "1315951  NO REPORT REQUIRED       Teralta West                  ST    15   \n",
       "98443    NO REPORT REQUIRED       East Village                 AVE    16   \n",
       "\n",
       "         calls_at_hour  \n",
       "1588528          87246  \n",
       "1067134          83222  \n",
       "890896           87132  \n",
       "1067142          85182  \n",
       "1428628          87246  \n",
       "...                ...  \n",
       "1156618          88730  \n",
       "870004           80151  \n",
       "203142           79816  \n",
       "1315951          86708  \n",
       "98443            87246  \n",
       "\n",
       "[1686084 rows x 10 columns]"
      ]
     },
     "execution_count": 22,
     "metadata": {},
     "output_type": "execute_result"
    }
   ],
   "source": [
    " #Using a groupby transform the count the number of calls at a particular hour\n",
    "df['calls_at_hour'] = df.groupby('hour')['date_time'].transform('count')\n",
    "df"
   ]
  },
  {
   "cell_type": "code",
   "execution_count": 56,
   "metadata": {},
   "outputs": [],
   "source": [
    "# Splitting the data into training and testing data \n",
    "X = df[['hour', 'day_of_week']]\n",
    "y = df['calls_at_hour']\n",
    "X_train, X_test, y_train, y_test = train_test_split(X, y, test_size=0.2)"
   ]
  },
  {
   "cell_type": "code",
   "execution_count": 57,
   "metadata": {},
   "outputs": [],
   "source": [
    "# Making the pipeline\n",
    "pl_calls = Pipeline([\n",
    "    ('lin-reg', LinearRegression())])"
   ]
  },
  {
   "cell_type": "code",
   "execution_count": 58,
   "metadata": {},
   "outputs": [
    {
     "data": {
      "text/html": [
       "<style>#sk-container-id-4 {color: black;background-color: white;}#sk-container-id-4 pre{padding: 0;}#sk-container-id-4 div.sk-toggleable {background-color: white;}#sk-container-id-4 label.sk-toggleable__label {cursor: pointer;display: block;width: 100%;margin-bottom: 0;padding: 0.3em;box-sizing: border-box;text-align: center;}#sk-container-id-4 label.sk-toggleable__label-arrow:before {content: \"▸\";float: left;margin-right: 0.25em;color: #696969;}#sk-container-id-4 label.sk-toggleable__label-arrow:hover:before {color: black;}#sk-container-id-4 div.sk-estimator:hover label.sk-toggleable__label-arrow:before {color: black;}#sk-container-id-4 div.sk-toggleable__content {max-height: 0;max-width: 0;overflow: hidden;text-align: left;background-color: #f0f8ff;}#sk-container-id-4 div.sk-toggleable__content pre {margin: 0.2em;color: black;border-radius: 0.25em;background-color: #f0f8ff;}#sk-container-id-4 input.sk-toggleable__control:checked~div.sk-toggleable__content {max-height: 200px;max-width: 100%;overflow: auto;}#sk-container-id-4 input.sk-toggleable__control:checked~label.sk-toggleable__label-arrow:before {content: \"▾\";}#sk-container-id-4 div.sk-estimator input.sk-toggleable__control:checked~label.sk-toggleable__label {background-color: #d4ebff;}#sk-container-id-4 div.sk-label input.sk-toggleable__control:checked~label.sk-toggleable__label {background-color: #d4ebff;}#sk-container-id-4 input.sk-hidden--visually {border: 0;clip: rect(1px 1px 1px 1px);clip: rect(1px, 1px, 1px, 1px);height: 1px;margin: -1px;overflow: hidden;padding: 0;position: absolute;width: 1px;}#sk-container-id-4 div.sk-estimator {font-family: monospace;background-color: #f0f8ff;border: 1px dotted black;border-radius: 0.25em;box-sizing: border-box;margin-bottom: 0.5em;}#sk-container-id-4 div.sk-estimator:hover {background-color: #d4ebff;}#sk-container-id-4 div.sk-parallel-item::after {content: \"\";width: 100%;border-bottom: 1px solid gray;flex-grow: 1;}#sk-container-id-4 div.sk-label:hover label.sk-toggleable__label {background-color: #d4ebff;}#sk-container-id-4 div.sk-serial::before {content: \"\";position: absolute;border-left: 1px solid gray;box-sizing: border-box;top: 0;bottom: 0;left: 50%;z-index: 0;}#sk-container-id-4 div.sk-serial {display: flex;flex-direction: column;align-items: center;background-color: white;padding-right: 0.2em;padding-left: 0.2em;position: relative;}#sk-container-id-4 div.sk-item {position: relative;z-index: 1;}#sk-container-id-4 div.sk-parallel {display: flex;align-items: stretch;justify-content: center;background-color: white;position: relative;}#sk-container-id-4 div.sk-item::before, #sk-container-id-4 div.sk-parallel-item::before {content: \"\";position: absolute;border-left: 1px solid gray;box-sizing: border-box;top: 0;bottom: 0;left: 50%;z-index: -1;}#sk-container-id-4 div.sk-parallel-item {display: flex;flex-direction: column;z-index: 1;position: relative;background-color: white;}#sk-container-id-4 div.sk-parallel-item:first-child::after {align-self: flex-end;width: 50%;}#sk-container-id-4 div.sk-parallel-item:last-child::after {align-self: flex-start;width: 50%;}#sk-container-id-4 div.sk-parallel-item:only-child::after {width: 0;}#sk-container-id-4 div.sk-dashed-wrapped {border: 1px dashed gray;margin: 0 0.4em 0.5em 0.4em;box-sizing: border-box;padding-bottom: 0.4em;background-color: white;}#sk-container-id-4 div.sk-label label {font-family: monospace;font-weight: bold;display: inline-block;line-height: 1.2em;}#sk-container-id-4 div.sk-label-container {text-align: center;}#sk-container-id-4 div.sk-container {/* jupyter's `normalize.less` sets `[hidden] { display: none; }` but bootstrap.min.css set `[hidden] { display: none !important; }` so we also need the `!important` here to be able to override the default hidden behavior on the sphinx rendered scikit-learn.org. See: https://github.com/scikit-learn/scikit-learn/issues/21755 */display: inline-block !important;position: relative;}#sk-container-id-4 div.sk-text-repr-fallback {display: none;}</style><div id=\"sk-container-id-4\" class=\"sk-top-container\"><div class=\"sk-text-repr-fallback\"><pre>Pipeline(steps=[(&#x27;lin-reg&#x27;, LinearRegression())])</pre><b>In a Jupyter environment, please rerun this cell to show the HTML representation or trust the notebook. <br />On GitHub, the HTML representation is unable to render, please try loading this page with nbviewer.org.</b></div><div class=\"sk-container\" hidden><div class=\"sk-item sk-dashed-wrapped\"><div class=\"sk-label-container\"><div class=\"sk-label sk-toggleable\"><input class=\"sk-toggleable__control sk-hidden--visually\" id=\"sk-estimator-id-15\" type=\"checkbox\" ><label for=\"sk-estimator-id-15\" class=\"sk-toggleable__label sk-toggleable__label-arrow\">Pipeline</label><div class=\"sk-toggleable__content\"><pre>Pipeline(steps=[(&#x27;lin-reg&#x27;, LinearRegression())])</pre></div></div></div><div class=\"sk-serial\"><div class=\"sk-item\"><div class=\"sk-estimator sk-toggleable\"><input class=\"sk-toggleable__control sk-hidden--visually\" id=\"sk-estimator-id-16\" type=\"checkbox\" ><label for=\"sk-estimator-id-16\" class=\"sk-toggleable__label sk-toggleable__label-arrow\">LinearRegression</label><div class=\"sk-toggleable__content\"><pre>LinearRegression()</pre></div></div></div></div></div></div></div>"
      ],
      "text/plain": [
       "Pipeline(steps=[('lin-reg', LinearRegression())])"
      ]
     },
     "execution_count": 58,
     "metadata": {},
     "output_type": "execute_result"
    }
   ],
   "source": [
    "pl_calls.fit(X_train, y_train) #Fitting the pipeline"
   ]
  },
  {
   "cell_type": "code",
   "execution_count": 59,
   "metadata": {},
   "outputs": [],
   "source": [
    "pred = pl_calls.predict(X_test) #Getting a prediction from the testing data"
   ]
  },
  {
   "cell_type": "code",
   "execution_count": 60,
   "metadata": {},
   "outputs": [],
   "source": [
    "# Function for Root Mean Squared Error\n",
    "def rmse(pred, y):\n",
    "    mse = mean_squared_error(pred, y_test) \n",
    "    return np.sqrt(mse)"
   ]
  },
  {
   "cell_type": "code",
   "execution_count": 61,
   "metadata": {},
   "outputs": [
    {
     "data": {
      "text/plain": [
       "array([83957.34576559, 75449.28280203, 77416.93911572, ...,\n",
       "       68243.76684971, 83866.28323576, 71605.03270447])"
      ]
     },
     "execution_count": 61,
     "metadata": {},
     "output_type": "execute_result"
    }
   ],
   "source": [
    "pred"
   ]
  },
  {
   "cell_type": "code",
   "execution_count": 62,
   "metadata": {},
   "outputs": [
    {
     "data": {
      "text/plain": [
       "144209     75006\n",
       "1087570    87132\n",
       "929057     85182\n",
       "451764     76102\n",
       "630942     90356\n",
       "           ...  \n",
       "1097976    87246\n",
       "797583     85182\n",
       "1207707    33233\n",
       "922339     75006\n",
       "253310     87795\n",
       "Name: calls_at_hour, Length: 337217, dtype: int64"
      ]
     },
     "execution_count": 62,
     "metadata": {},
     "output_type": "execute_result"
    }
   ],
   "source": [
    "y_test"
   ]
  },
  {
   "cell_type": "code",
   "execution_count": 63,
   "metadata": {},
   "outputs": [
    {
     "data": {
      "text/plain": [
       "15103.009378194542"
      ]
     },
     "execution_count": 63,
     "metadata": {},
     "output_type": "execute_result"
    }
   ],
   "source": [
    "#Finding RMSE\n",
    "rmse(pred, y_test)"
   ]
  },
  {
   "cell_type": "code",
   "execution_count": 64,
   "metadata": {
    "scrolled": true
   },
   "outputs": [
    {
     "data": {
      "text/plain": [
       "count    1.686084e+06\n",
       "mean     7.606590e+04\n",
       "std      1.646352e+04\n",
       "min      2.723800e+04\n",
       "25%      7.381700e+04\n",
       "50%      8.015100e+04\n",
       "75%      8.724600e+04\n",
       "max      9.520200e+04\n",
       "Name: calls_at_hour, dtype: float64"
      ]
     },
     "execution_count": 64,
     "metadata": {},
     "output_type": "execute_result"
    }
   ],
   "source": [
    "df['calls_at_hour'].describe()"
   ]
  },
  {
   "cell_type": "code",
   "execution_count": 67,
   "metadata": {},
   "outputs": [
    {
     "data": {
      "text/plain": [
       "67964"
      ]
     },
     "execution_count": 67,
     "metadata": {},
     "output_type": "execute_result"
    }
   ],
   "source": [
    "df['calls_at_hour'].max() - df['calls_at_hour'].min() #Finding range of the column"
   ]
  },
  {
   "cell_type": "code",
   "execution_count": 68,
   "metadata": {},
   "outputs": [],
   "source": [
    "# Since the RMSE is so high considering the range of the calls, this is not a great model. "
   ]
  },
  {
   "cell_type": "markdown",
   "metadata": {},
   "source": [
    "## Decision tree model to predict priority from all the other columns"
   ]
  },
  {
   "cell_type": "code",
   "execution_count": 69,
   "metadata": {},
   "outputs": [],
   "source": [
    "# Dropping the date_time column because we will be using the hour column for predicting priority. \n",
    "df = df.drop('date_time', axis = 1) "
   ]
  },
  {
   "cell_type": "code",
   "execution_count": 31,
   "metadata": {},
   "outputs": [],
   "source": [
    "# Converting call_type columns to string type, so we can use One hot encoding on it.\n",
    "df['call_type'] = df['call_type'].astype(str)"
   ]
  },
  {
   "cell_type": "code",
   "execution_count": 70,
   "metadata": {},
   "outputs": [],
   "source": [
    "#Sampling only 20% of the data to train the model faster\n",
    "df_sampled = df.sample(n=int(df.shape[0]*.2), random_state=42) "
   ]
  },
  {
   "cell_type": "code",
   "execution_count": 71,
   "metadata": {},
   "outputs": [],
   "source": [
    "# Splitting the data into training and testing sets\n",
    "X = df_sampled.drop('priority', axis = 1)\n",
    "y = df_sampled['priority']\n",
    "X_train, X_test, y_train, y_test = train_test_split(X, y, test_size=0.2)"
   ]
  },
  {
   "cell_type": "code",
   "execution_count": 72,
   "metadata": {
    "scrolled": true
   },
   "outputs": [
    {
     "data": {
      "text/html": [
       "<style>#sk-container-id-5 {color: black;background-color: white;}#sk-container-id-5 pre{padding: 0;}#sk-container-id-5 div.sk-toggleable {background-color: white;}#sk-container-id-5 label.sk-toggleable__label {cursor: pointer;display: block;width: 100%;margin-bottom: 0;padding: 0.3em;box-sizing: border-box;text-align: center;}#sk-container-id-5 label.sk-toggleable__label-arrow:before {content: \"▸\";float: left;margin-right: 0.25em;color: #696969;}#sk-container-id-5 label.sk-toggleable__label-arrow:hover:before {color: black;}#sk-container-id-5 div.sk-estimator:hover label.sk-toggleable__label-arrow:before {color: black;}#sk-container-id-5 div.sk-toggleable__content {max-height: 0;max-width: 0;overflow: hidden;text-align: left;background-color: #f0f8ff;}#sk-container-id-5 div.sk-toggleable__content pre {margin: 0.2em;color: black;border-radius: 0.25em;background-color: #f0f8ff;}#sk-container-id-5 input.sk-toggleable__control:checked~div.sk-toggleable__content {max-height: 200px;max-width: 100%;overflow: auto;}#sk-container-id-5 input.sk-toggleable__control:checked~label.sk-toggleable__label-arrow:before {content: \"▾\";}#sk-container-id-5 div.sk-estimator input.sk-toggleable__control:checked~label.sk-toggleable__label {background-color: #d4ebff;}#sk-container-id-5 div.sk-label input.sk-toggleable__control:checked~label.sk-toggleable__label {background-color: #d4ebff;}#sk-container-id-5 input.sk-hidden--visually {border: 0;clip: rect(1px 1px 1px 1px);clip: rect(1px, 1px, 1px, 1px);height: 1px;margin: -1px;overflow: hidden;padding: 0;position: absolute;width: 1px;}#sk-container-id-5 div.sk-estimator {font-family: monospace;background-color: #f0f8ff;border: 1px dotted black;border-radius: 0.25em;box-sizing: border-box;margin-bottom: 0.5em;}#sk-container-id-5 div.sk-estimator:hover {background-color: #d4ebff;}#sk-container-id-5 div.sk-parallel-item::after {content: \"\";width: 100%;border-bottom: 1px solid gray;flex-grow: 1;}#sk-container-id-5 div.sk-label:hover label.sk-toggleable__label {background-color: #d4ebff;}#sk-container-id-5 div.sk-serial::before {content: \"\";position: absolute;border-left: 1px solid gray;box-sizing: border-box;top: 0;bottom: 0;left: 50%;z-index: 0;}#sk-container-id-5 div.sk-serial {display: flex;flex-direction: column;align-items: center;background-color: white;padding-right: 0.2em;padding-left: 0.2em;position: relative;}#sk-container-id-5 div.sk-item {position: relative;z-index: 1;}#sk-container-id-5 div.sk-parallel {display: flex;align-items: stretch;justify-content: center;background-color: white;position: relative;}#sk-container-id-5 div.sk-item::before, #sk-container-id-5 div.sk-parallel-item::before {content: \"\";position: absolute;border-left: 1px solid gray;box-sizing: border-box;top: 0;bottom: 0;left: 50%;z-index: -1;}#sk-container-id-5 div.sk-parallel-item {display: flex;flex-direction: column;z-index: 1;position: relative;background-color: white;}#sk-container-id-5 div.sk-parallel-item:first-child::after {align-self: flex-end;width: 50%;}#sk-container-id-5 div.sk-parallel-item:last-child::after {align-self: flex-start;width: 50%;}#sk-container-id-5 div.sk-parallel-item:only-child::after {width: 0;}#sk-container-id-5 div.sk-dashed-wrapped {border: 1px dashed gray;margin: 0 0.4em 0.5em 0.4em;box-sizing: border-box;padding-bottom: 0.4em;background-color: white;}#sk-container-id-5 div.sk-label label {font-family: monospace;font-weight: bold;display: inline-block;line-height: 1.2em;}#sk-container-id-5 div.sk-label-container {text-align: center;}#sk-container-id-5 div.sk-container {/* jupyter's `normalize.less` sets `[hidden] { display: none; }` but bootstrap.min.css set `[hidden] { display: none !important; }` so we also need the `!important` here to be able to override the default hidden behavior on the sphinx rendered scikit-learn.org. See: https://github.com/scikit-learn/scikit-learn/issues/21755 */display: inline-block !important;position: relative;}#sk-container-id-5 div.sk-text-repr-fallback {display: none;}</style><div id=\"sk-container-id-5\" class=\"sk-top-container\"><div class=\"sk-text-repr-fallback\"><pre>ColumnTransformer(remainder=&#x27;passthrough&#x27;,\n",
       "                  transformers=[(&#x27;ohe&#x27;, OneHotEncoder(handle_unknown=&#x27;ignore&#x27;),\n",
       "                                 [&#x27;call_type&#x27;, &#x27;disposition&#x27;, &#x27;description&#x27;,\n",
       "                                  &#x27;neighborhood&#x27;, &#x27;address_sfx_primary&#x27;]),\n",
       "                                (&#x27;quantile&#x27;, QuantileTransformer(),\n",
       "                                 [&#x27;calls_at_hour&#x27;, &#x27;hour&#x27;])])</pre><b>In a Jupyter environment, please rerun this cell to show the HTML representation or trust the notebook. <br />On GitHub, the HTML representation is unable to render, please try loading this page with nbviewer.org.</b></div><div class=\"sk-container\" hidden><div class=\"sk-item sk-dashed-wrapped\"><div class=\"sk-label-container\"><div class=\"sk-label sk-toggleable\"><input class=\"sk-toggleable__control sk-hidden--visually\" id=\"sk-estimator-id-17\" type=\"checkbox\" ><label for=\"sk-estimator-id-17\" class=\"sk-toggleable__label sk-toggleable__label-arrow\">ColumnTransformer</label><div class=\"sk-toggleable__content\"><pre>ColumnTransformer(remainder=&#x27;passthrough&#x27;,\n",
       "                  transformers=[(&#x27;ohe&#x27;, OneHotEncoder(handle_unknown=&#x27;ignore&#x27;),\n",
       "                                 [&#x27;call_type&#x27;, &#x27;disposition&#x27;, &#x27;description&#x27;,\n",
       "                                  &#x27;neighborhood&#x27;, &#x27;address_sfx_primary&#x27;]),\n",
       "                                (&#x27;quantile&#x27;, QuantileTransformer(),\n",
       "                                 [&#x27;calls_at_hour&#x27;, &#x27;hour&#x27;])])</pre></div></div></div><div class=\"sk-parallel\"><div class=\"sk-parallel-item\"><div class=\"sk-item\"><div class=\"sk-label-container\"><div class=\"sk-label sk-toggleable\"><input class=\"sk-toggleable__control sk-hidden--visually\" id=\"sk-estimator-id-18\" type=\"checkbox\" ><label for=\"sk-estimator-id-18\" class=\"sk-toggleable__label sk-toggleable__label-arrow\">ohe</label><div class=\"sk-toggleable__content\"><pre>[&#x27;call_type&#x27;, &#x27;disposition&#x27;, &#x27;description&#x27;, &#x27;neighborhood&#x27;, &#x27;address_sfx_primary&#x27;]</pre></div></div></div><div class=\"sk-serial\"><div class=\"sk-item\"><div class=\"sk-estimator sk-toggleable\"><input class=\"sk-toggleable__control sk-hidden--visually\" id=\"sk-estimator-id-19\" type=\"checkbox\" ><label for=\"sk-estimator-id-19\" class=\"sk-toggleable__label sk-toggleable__label-arrow\">OneHotEncoder</label><div class=\"sk-toggleable__content\"><pre>OneHotEncoder(handle_unknown=&#x27;ignore&#x27;)</pre></div></div></div></div></div></div><div class=\"sk-parallel-item\"><div class=\"sk-item\"><div class=\"sk-label-container\"><div class=\"sk-label sk-toggleable\"><input class=\"sk-toggleable__control sk-hidden--visually\" id=\"sk-estimator-id-20\" type=\"checkbox\" ><label for=\"sk-estimator-id-20\" class=\"sk-toggleable__label sk-toggleable__label-arrow\">quantile</label><div class=\"sk-toggleable__content\"><pre>[&#x27;calls_at_hour&#x27;, &#x27;hour&#x27;]</pre></div></div></div><div class=\"sk-serial\"><div class=\"sk-item\"><div class=\"sk-estimator sk-toggleable\"><input class=\"sk-toggleable__control sk-hidden--visually\" id=\"sk-estimator-id-21\" type=\"checkbox\" ><label for=\"sk-estimator-id-21\" class=\"sk-toggleable__label sk-toggleable__label-arrow\">QuantileTransformer</label><div class=\"sk-toggleable__content\"><pre>QuantileTransformer()</pre></div></div></div></div></div></div><div class=\"sk-parallel-item\"><div class=\"sk-item\"><div class=\"sk-label-container\"><div class=\"sk-label sk-toggleable\"><input class=\"sk-toggleable__control sk-hidden--visually\" id=\"sk-estimator-id-22\" type=\"checkbox\" ><label for=\"sk-estimator-id-22\" class=\"sk-toggleable__label sk-toggleable__label-arrow\">remainder</label><div class=\"sk-toggleable__content\"><pre></pre></div></div></div><div class=\"sk-serial\"><div class=\"sk-item\"><div class=\"sk-estimator sk-toggleable\"><input class=\"sk-toggleable__control sk-hidden--visually\" id=\"sk-estimator-id-23\" type=\"checkbox\" ><label for=\"sk-estimator-id-23\" class=\"sk-toggleable__label sk-toggleable__label-arrow\">passthrough</label><div class=\"sk-toggleable__content\"><pre>passthrough</pre></div></div></div></div></div></div></div></div></div></div>"
      ],
      "text/plain": [
       "ColumnTransformer(remainder='passthrough',\n",
       "                  transformers=[('ohe', OneHotEncoder(handle_unknown='ignore'),\n",
       "                                 ['call_type', 'disposition', 'description',\n",
       "                                  'neighborhood', 'address_sfx_primary']),\n",
       "                                ('quantile', QuantileTransformer(),\n",
       "                                 ['calls_at_hour', 'hour'])])"
      ]
     },
     "execution_count": 72,
     "metadata": {},
     "output_type": "execute_result"
    }
   ],
   "source": [
    "# Making a pre-processor for the pipeline, transforming 'call_type', 'disposition', 'description', 'neighborhood',\n",
    "# and 'address_sfx_primary columns using onehotencoding, 'calls_at_hour' and 'hour' into a more standardized format\n",
    "# using quantiletransformer to help capture the relationship more accurately, letting the other columns pass through.\n",
    "\n",
    "preproc = ColumnTransformer([\n",
    "    ('ohe', OneHotEncoder(handle_unknown='ignore'),\n",
    "     ['call_type', 'disposition', 'description', 'neighborhood', 'address_sfx_primary']),\n",
    "    ('quantile', QuantileTransformer(), ['calls_at_hour', 'hour'])\n",
    "], remainder = 'passthrough')\n",
    "preproc"
   ]
  },
  {
   "cell_type": "code",
   "execution_count": 73,
   "metadata": {},
   "outputs": [],
   "source": [
    "# Making the pipeline using the above pre-processor and a DecisionTreeClassifier model\n",
    "pl_priority = Pipeline([('preproc', preproc), ('dec-tree', DecisionTreeClassifier())])"
   ]
  },
  {
   "cell_type": "code",
   "execution_count": 74,
   "metadata": {
    "scrolled": true
   },
   "outputs": [
    {
     "data": {
      "text/html": [
       "<style>#sk-container-id-6 {color: black;background-color: white;}#sk-container-id-6 pre{padding: 0;}#sk-container-id-6 div.sk-toggleable {background-color: white;}#sk-container-id-6 label.sk-toggleable__label {cursor: pointer;display: block;width: 100%;margin-bottom: 0;padding: 0.3em;box-sizing: border-box;text-align: center;}#sk-container-id-6 label.sk-toggleable__label-arrow:before {content: \"▸\";float: left;margin-right: 0.25em;color: #696969;}#sk-container-id-6 label.sk-toggleable__label-arrow:hover:before {color: black;}#sk-container-id-6 div.sk-estimator:hover label.sk-toggleable__label-arrow:before {color: black;}#sk-container-id-6 div.sk-toggleable__content {max-height: 0;max-width: 0;overflow: hidden;text-align: left;background-color: #f0f8ff;}#sk-container-id-6 div.sk-toggleable__content pre {margin: 0.2em;color: black;border-radius: 0.25em;background-color: #f0f8ff;}#sk-container-id-6 input.sk-toggleable__control:checked~div.sk-toggleable__content {max-height: 200px;max-width: 100%;overflow: auto;}#sk-container-id-6 input.sk-toggleable__control:checked~label.sk-toggleable__label-arrow:before {content: \"▾\";}#sk-container-id-6 div.sk-estimator input.sk-toggleable__control:checked~label.sk-toggleable__label {background-color: #d4ebff;}#sk-container-id-6 div.sk-label input.sk-toggleable__control:checked~label.sk-toggleable__label {background-color: #d4ebff;}#sk-container-id-6 input.sk-hidden--visually {border: 0;clip: rect(1px 1px 1px 1px);clip: rect(1px, 1px, 1px, 1px);height: 1px;margin: -1px;overflow: hidden;padding: 0;position: absolute;width: 1px;}#sk-container-id-6 div.sk-estimator {font-family: monospace;background-color: #f0f8ff;border: 1px dotted black;border-radius: 0.25em;box-sizing: border-box;margin-bottom: 0.5em;}#sk-container-id-6 div.sk-estimator:hover {background-color: #d4ebff;}#sk-container-id-6 div.sk-parallel-item::after {content: \"\";width: 100%;border-bottom: 1px solid gray;flex-grow: 1;}#sk-container-id-6 div.sk-label:hover label.sk-toggleable__label {background-color: #d4ebff;}#sk-container-id-6 div.sk-serial::before {content: \"\";position: absolute;border-left: 1px solid gray;box-sizing: border-box;top: 0;bottom: 0;left: 50%;z-index: 0;}#sk-container-id-6 div.sk-serial {display: flex;flex-direction: column;align-items: center;background-color: white;padding-right: 0.2em;padding-left: 0.2em;position: relative;}#sk-container-id-6 div.sk-item {position: relative;z-index: 1;}#sk-container-id-6 div.sk-parallel {display: flex;align-items: stretch;justify-content: center;background-color: white;position: relative;}#sk-container-id-6 div.sk-item::before, #sk-container-id-6 div.sk-parallel-item::before {content: \"\";position: absolute;border-left: 1px solid gray;box-sizing: border-box;top: 0;bottom: 0;left: 50%;z-index: -1;}#sk-container-id-6 div.sk-parallel-item {display: flex;flex-direction: column;z-index: 1;position: relative;background-color: white;}#sk-container-id-6 div.sk-parallel-item:first-child::after {align-self: flex-end;width: 50%;}#sk-container-id-6 div.sk-parallel-item:last-child::after {align-self: flex-start;width: 50%;}#sk-container-id-6 div.sk-parallel-item:only-child::after {width: 0;}#sk-container-id-6 div.sk-dashed-wrapped {border: 1px dashed gray;margin: 0 0.4em 0.5em 0.4em;box-sizing: border-box;padding-bottom: 0.4em;background-color: white;}#sk-container-id-6 div.sk-label label {font-family: monospace;font-weight: bold;display: inline-block;line-height: 1.2em;}#sk-container-id-6 div.sk-label-container {text-align: center;}#sk-container-id-6 div.sk-container {/* jupyter's `normalize.less` sets `[hidden] { display: none; }` but bootstrap.min.css set `[hidden] { display: none !important; }` so we also need the `!important` here to be able to override the default hidden behavior on the sphinx rendered scikit-learn.org. See: https://github.com/scikit-learn/scikit-learn/issues/21755 */display: inline-block !important;position: relative;}#sk-container-id-6 div.sk-text-repr-fallback {display: none;}</style><div id=\"sk-container-id-6\" class=\"sk-top-container\"><div class=\"sk-text-repr-fallback\"><pre>Pipeline(steps=[(&#x27;preproc&#x27;,\n",
       "                 ColumnTransformer(remainder=&#x27;passthrough&#x27;,\n",
       "                                   transformers=[(&#x27;ohe&#x27;,\n",
       "                                                  OneHotEncoder(handle_unknown=&#x27;ignore&#x27;),\n",
       "                                                  [&#x27;call_type&#x27;, &#x27;disposition&#x27;,\n",
       "                                                   &#x27;description&#x27;,\n",
       "                                                   &#x27;neighborhood&#x27;,\n",
       "                                                   &#x27;address_sfx_primary&#x27;]),\n",
       "                                                 (&#x27;quantile&#x27;,\n",
       "                                                  QuantileTransformer(),\n",
       "                                                  [&#x27;calls_at_hour&#x27;, &#x27;hour&#x27;])])),\n",
       "                (&#x27;dec-tree&#x27;, DecisionTreeClassifier())])</pre><b>In a Jupyter environment, please rerun this cell to show the HTML representation or trust the notebook. <br />On GitHub, the HTML representation is unable to render, please try loading this page with nbviewer.org.</b></div><div class=\"sk-container\" hidden><div class=\"sk-item sk-dashed-wrapped\"><div class=\"sk-label-container\"><div class=\"sk-label sk-toggleable\"><input class=\"sk-toggleable__control sk-hidden--visually\" id=\"sk-estimator-id-24\" type=\"checkbox\" ><label for=\"sk-estimator-id-24\" class=\"sk-toggleable__label sk-toggleable__label-arrow\">Pipeline</label><div class=\"sk-toggleable__content\"><pre>Pipeline(steps=[(&#x27;preproc&#x27;,\n",
       "                 ColumnTransformer(remainder=&#x27;passthrough&#x27;,\n",
       "                                   transformers=[(&#x27;ohe&#x27;,\n",
       "                                                  OneHotEncoder(handle_unknown=&#x27;ignore&#x27;),\n",
       "                                                  [&#x27;call_type&#x27;, &#x27;disposition&#x27;,\n",
       "                                                   &#x27;description&#x27;,\n",
       "                                                   &#x27;neighborhood&#x27;,\n",
       "                                                   &#x27;address_sfx_primary&#x27;]),\n",
       "                                                 (&#x27;quantile&#x27;,\n",
       "                                                  QuantileTransformer(),\n",
       "                                                  [&#x27;calls_at_hour&#x27;, &#x27;hour&#x27;])])),\n",
       "                (&#x27;dec-tree&#x27;, DecisionTreeClassifier())])</pre></div></div></div><div class=\"sk-serial\"><div class=\"sk-item sk-dashed-wrapped\"><div class=\"sk-label-container\"><div class=\"sk-label sk-toggleable\"><input class=\"sk-toggleable__control sk-hidden--visually\" id=\"sk-estimator-id-25\" type=\"checkbox\" ><label for=\"sk-estimator-id-25\" class=\"sk-toggleable__label sk-toggleable__label-arrow\">preproc: ColumnTransformer</label><div class=\"sk-toggleable__content\"><pre>ColumnTransformer(remainder=&#x27;passthrough&#x27;,\n",
       "                  transformers=[(&#x27;ohe&#x27;, OneHotEncoder(handle_unknown=&#x27;ignore&#x27;),\n",
       "                                 [&#x27;call_type&#x27;, &#x27;disposition&#x27;, &#x27;description&#x27;,\n",
       "                                  &#x27;neighborhood&#x27;, &#x27;address_sfx_primary&#x27;]),\n",
       "                                (&#x27;quantile&#x27;, QuantileTransformer(),\n",
       "                                 [&#x27;calls_at_hour&#x27;, &#x27;hour&#x27;])])</pre></div></div></div><div class=\"sk-parallel\"><div class=\"sk-parallel-item\"><div class=\"sk-item\"><div class=\"sk-label-container\"><div class=\"sk-label sk-toggleable\"><input class=\"sk-toggleable__control sk-hidden--visually\" id=\"sk-estimator-id-26\" type=\"checkbox\" ><label for=\"sk-estimator-id-26\" class=\"sk-toggleable__label sk-toggleable__label-arrow\">ohe</label><div class=\"sk-toggleable__content\"><pre>[&#x27;call_type&#x27;, &#x27;disposition&#x27;, &#x27;description&#x27;, &#x27;neighborhood&#x27;, &#x27;address_sfx_primary&#x27;]</pre></div></div></div><div class=\"sk-serial\"><div class=\"sk-item\"><div class=\"sk-estimator sk-toggleable\"><input class=\"sk-toggleable__control sk-hidden--visually\" id=\"sk-estimator-id-27\" type=\"checkbox\" ><label for=\"sk-estimator-id-27\" class=\"sk-toggleable__label sk-toggleable__label-arrow\">OneHotEncoder</label><div class=\"sk-toggleable__content\"><pre>OneHotEncoder(handle_unknown=&#x27;ignore&#x27;)</pre></div></div></div></div></div></div><div class=\"sk-parallel-item\"><div class=\"sk-item\"><div class=\"sk-label-container\"><div class=\"sk-label sk-toggleable\"><input class=\"sk-toggleable__control sk-hidden--visually\" id=\"sk-estimator-id-28\" type=\"checkbox\" ><label for=\"sk-estimator-id-28\" class=\"sk-toggleable__label sk-toggleable__label-arrow\">quantile</label><div class=\"sk-toggleable__content\"><pre>[&#x27;calls_at_hour&#x27;, &#x27;hour&#x27;]</pre></div></div></div><div class=\"sk-serial\"><div class=\"sk-item\"><div class=\"sk-estimator sk-toggleable\"><input class=\"sk-toggleable__control sk-hidden--visually\" id=\"sk-estimator-id-29\" type=\"checkbox\" ><label for=\"sk-estimator-id-29\" class=\"sk-toggleable__label sk-toggleable__label-arrow\">QuantileTransformer</label><div class=\"sk-toggleable__content\"><pre>QuantileTransformer()</pre></div></div></div></div></div></div><div class=\"sk-parallel-item\"><div class=\"sk-item\"><div class=\"sk-label-container\"><div class=\"sk-label sk-toggleable\"><input class=\"sk-toggleable__control sk-hidden--visually\" id=\"sk-estimator-id-30\" type=\"checkbox\" ><label for=\"sk-estimator-id-30\" class=\"sk-toggleable__label sk-toggleable__label-arrow\">remainder</label><div class=\"sk-toggleable__content\"><pre>[&#x27;day_of_week&#x27;]</pre></div></div></div><div class=\"sk-serial\"><div class=\"sk-item\"><div class=\"sk-estimator sk-toggleable\"><input class=\"sk-toggleable__control sk-hidden--visually\" id=\"sk-estimator-id-31\" type=\"checkbox\" ><label for=\"sk-estimator-id-31\" class=\"sk-toggleable__label sk-toggleable__label-arrow\">passthrough</label><div class=\"sk-toggleable__content\"><pre>passthrough</pre></div></div></div></div></div></div></div></div><div class=\"sk-item\"><div class=\"sk-estimator sk-toggleable\"><input class=\"sk-toggleable__control sk-hidden--visually\" id=\"sk-estimator-id-32\" type=\"checkbox\" ><label for=\"sk-estimator-id-32\" class=\"sk-toggleable__label sk-toggleable__label-arrow\">DecisionTreeClassifier</label><div class=\"sk-toggleable__content\"><pre>DecisionTreeClassifier()</pre></div></div></div></div></div></div></div>"
      ],
      "text/plain": [
       "Pipeline(steps=[('preproc',\n",
       "                 ColumnTransformer(remainder='passthrough',\n",
       "                                   transformers=[('ohe',\n",
       "                                                  OneHotEncoder(handle_unknown='ignore'),\n",
       "                                                  ['call_type', 'disposition',\n",
       "                                                   'description',\n",
       "                                                   'neighborhood',\n",
       "                                                   'address_sfx_primary']),\n",
       "                                                 ('quantile',\n",
       "                                                  QuantileTransformer(),\n",
       "                                                  ['calls_at_hour', 'hour'])])),\n",
       "                ('dec-tree', DecisionTreeClassifier())])"
      ]
     },
     "execution_count": 74,
     "metadata": {},
     "output_type": "execute_result"
    }
   ],
   "source": [
    "#Fitting the pipeline\n",
    "pl_priority.fit(X_train, y_train)"
   ]
  },
  {
   "cell_type": "code",
   "execution_count": 75,
   "metadata": {},
   "outputs": [],
   "source": [
    "#Getting a prediction out of the testing data\n",
    "pred = pl_priority.predict(X_test)"
   ]
  },
  {
   "cell_type": "code",
   "execution_count": 76,
   "metadata": {
    "scrolled": false
   },
   "outputs": [
    {
     "data": {
      "text/plain": [
       "0.9256420141154142"
      ]
     },
     "execution_count": 76,
     "metadata": {},
     "output_type": "execute_result"
    }
   ],
   "source": [
    "#Finding the accuracy score\n",
    "metrics.accuracy_score(pred, y_test)"
   ]
  },
  {
   "cell_type": "code",
   "execution_count": 75,
   "metadata": {},
   "outputs": [],
   "source": [
    "# We are able to get predictions using this model with a ~93% accuracy."
   ]
  },
  {
   "cell_type": "markdown",
   "metadata": {},
   "source": [
    "# Evaluating Priority by Variable"
   ]
  },
  {
   "cell_type": "code",
   "execution_count": 55,
   "metadata": {},
   "outputs": [
    {
     "data": {
      "text/html": [
       "<div>\n",
       "<style scoped>\n",
       "    .dataframe tbody tr th:only-of-type {\n",
       "        vertical-align: middle;\n",
       "    }\n",
       "\n",
       "    .dataframe tbody tr th {\n",
       "        vertical-align: top;\n",
       "    }\n",
       "\n",
       "    .dataframe thead th {\n",
       "        text-align: right;\n",
       "    }\n",
       "</style>\n",
       "<table border=\"1\" class=\"dataframe\">\n",
       "  <thead>\n",
       "    <tr style=\"text-align: right;\">\n",
       "      <th></th>\n",
       "      <th>day_of_week</th>\n",
       "      <th>call_type</th>\n",
       "      <th>disposition</th>\n",
       "      <th>priority</th>\n",
       "      <th>description</th>\n",
       "      <th>neighborhood</th>\n",
       "      <th>address_sfx_primary</th>\n",
       "      <th>hour</th>\n",
       "      <th>calls_at_hour</th>\n",
       "    </tr>\n",
       "  </thead>\n",
       "  <tbody>\n",
       "    <tr>\n",
       "      <th>1588528</th>\n",
       "      <td>6</td>\n",
       "      <td>530</td>\n",
       "      <td>R</td>\n",
       "      <td>9</td>\n",
       "      <td>REPORT</td>\n",
       "      <td>Cherokee Point</td>\n",
       "      <td>ST</td>\n",
       "      <td>16</td>\n",
       "      <td>87246</td>\n",
       "    </tr>\n",
       "    <tr>\n",
       "      <th>1067134</th>\n",
       "      <td>7</td>\n",
       "      <td>10852R</td>\n",
       "      <td>R</td>\n",
       "      <td>9</td>\n",
       "      <td>REPORT</td>\n",
       "      <td>Bay Park</td>\n",
       "      <td>ST</td>\n",
       "      <td>13</td>\n",
       "      <td>83222</td>\n",
       "    </tr>\n",
       "    <tr>\n",
       "      <th>890896</th>\n",
       "      <td>4</td>\n",
       "      <td>653M</td>\n",
       "      <td>K</td>\n",
       "      <td>9</td>\n",
       "      <td>NO REPORT REQUIRED</td>\n",
       "      <td>Fairmount Village</td>\n",
       "      <td>ST</td>\n",
       "      <td>12</td>\n",
       "      <td>87132</td>\n",
       "    </tr>\n",
       "    <tr>\n",
       "      <th>1067142</th>\n",
       "      <td>2</td>\n",
       "      <td>488R</td>\n",
       "      <td>R</td>\n",
       "      <td>9</td>\n",
       "      <td>REPORT</td>\n",
       "      <td>Bay Park</td>\n",
       "      <td>ST</td>\n",
       "      <td>14</td>\n",
       "      <td>85182</td>\n",
       "    </tr>\n",
       "    <tr>\n",
       "      <th>1428628</th>\n",
       "      <td>4</td>\n",
       "      <td>530</td>\n",
       "      <td>R</td>\n",
       "      <td>9</td>\n",
       "      <td>REPORT</td>\n",
       "      <td>Chollas Creek</td>\n",
       "      <td>AVE</td>\n",
       "      <td>16</td>\n",
       "      <td>87246</td>\n",
       "    </tr>\n",
       "    <tr>\n",
       "      <th>...</th>\n",
       "      <td>...</td>\n",
       "      <td>...</td>\n",
       "      <td>...</td>\n",
       "      <td>...</td>\n",
       "      <td>...</td>\n",
       "      <td>...</td>\n",
       "      <td>...</td>\n",
       "      <td>...</td>\n",
       "      <td>...</td>\n",
       "    </tr>\n",
       "    <tr>\n",
       "      <th>1156618</th>\n",
       "      <td>5</td>\n",
       "      <td>1183</td>\n",
       "      <td>R</td>\n",
       "      <td>0</td>\n",
       "      <td>REPORT</td>\n",
       "      <td>Golden Hill</td>\n",
       "      <td>ST</td>\n",
       "      <td>9</td>\n",
       "      <td>88730</td>\n",
       "    </tr>\n",
       "    <tr>\n",
       "      <th>870004</th>\n",
       "      <td>2</td>\n",
       "      <td>245</td>\n",
       "      <td>R</td>\n",
       "      <td>0</td>\n",
       "      <td>REPORT</td>\n",
       "      <td>North Park</td>\n",
       "      <td>ST</td>\n",
       "      <td>7</td>\n",
       "      <td>80151</td>\n",
       "    </tr>\n",
       "    <tr>\n",
       "      <th>203142</th>\n",
       "      <td>2</td>\n",
       "      <td>1183</td>\n",
       "      <td>K</td>\n",
       "      <td>0</td>\n",
       "      <td>NO REPORT REQUIRED</td>\n",
       "      <td>Pacific Beach</td>\n",
       "      <td>ST</td>\n",
       "      <td>17</td>\n",
       "      <td>79816</td>\n",
       "    </tr>\n",
       "    <tr>\n",
       "      <th>1315951</th>\n",
       "      <td>6</td>\n",
       "      <td>11-8</td>\n",
       "      <td>K</td>\n",
       "      <td>0</td>\n",
       "      <td>NO REPORT REQUIRED</td>\n",
       "      <td>Teralta West</td>\n",
       "      <td>ST</td>\n",
       "      <td>15</td>\n",
       "      <td>86708</td>\n",
       "    </tr>\n",
       "    <tr>\n",
       "      <th>98443</th>\n",
       "      <td>3</td>\n",
       "      <td>10852</td>\n",
       "      <td>K</td>\n",
       "      <td>0</td>\n",
       "      <td>NO REPORT REQUIRED</td>\n",
       "      <td>East Village</td>\n",
       "      <td>AVE</td>\n",
       "      <td>16</td>\n",
       "      <td>87246</td>\n",
       "    </tr>\n",
       "  </tbody>\n",
       "</table>\n",
       "<p>1686084 rows × 9 columns</p>\n",
       "</div>"
      ],
      "text/plain": [
       "         day_of_week call_type disposition  priority         description  \\\n",
       "1588528            6       530           R         9              REPORT   \n",
       "1067134            7    10852R           R         9              REPORT   \n",
       "890896             4      653M           K         9  NO REPORT REQUIRED   \n",
       "1067142            2      488R           R         9              REPORT   \n",
       "1428628            4       530           R         9              REPORT   \n",
       "...              ...       ...         ...       ...                 ...   \n",
       "1156618            5      1183           R         0              REPORT   \n",
       "870004             2       245           R         0              REPORT   \n",
       "203142             2      1183           K         0  NO REPORT REQUIRED   \n",
       "1315951            6      11-8           K         0  NO REPORT REQUIRED   \n",
       "98443              3     10852           K         0  NO REPORT REQUIRED   \n",
       "\n",
       "              neighborhood address_sfx_primary  hour  calls_at_hour  \n",
       "1588528     Cherokee Point                  ST    16          87246  \n",
       "1067134           Bay Park                  ST    13          83222  \n",
       "890896   Fairmount Village                  ST    12          87132  \n",
       "1067142           Bay Park                  ST    14          85182  \n",
       "1428628      Chollas Creek                 AVE    16          87246  \n",
       "...                    ...                 ...   ...            ...  \n",
       "1156618        Golden Hill                  ST     9          88730  \n",
       "870004          North Park                  ST     7          80151  \n",
       "203142       Pacific Beach                  ST    17          79816  \n",
       "1315951       Teralta West                  ST    15          86708  \n",
       "98443         East Village                 AVE    16          87246  \n",
       "\n",
       "[1686084 rows x 9 columns]"
      ]
     },
     "execution_count": 55,
     "metadata": {},
     "output_type": "execute_result"
    }
   ],
   "source": [
    "df"
   ]
  },
  {
   "cell_type": "code",
   "execution_count": 56,
   "metadata": {},
   "outputs": [
    {
     "data": {
      "image/png": "[encoded data removed]",
      "text/plain": [
       "<Figure size 432x288 with 1 Axes>"
      ]
     },
     "metadata": {
      "needs_background": "light"
     },
     "output_type": "display_data"
    },
    {
     "data": {
      "image/png": "[encoded data removed]",
      "text/plain": [
       "<Figure size 432x288 with 1 Axes>"
      ]
     },
     "metadata": {
      "needs_background": "light"
     },
     "output_type": "display_data"
    },
    {
     "data": {
      "image/png": "[encoded data removed]",
      "text/plain": [
       "<Figure size 432x288 with 1 Axes>"
      ]
     },
     "metadata": {
      "needs_background": "light"
     },
     "output_type": "display_data"
    },
    {
     "data": {
      "image/png": "[encoded data removed]",
      "text/plain": [
       "<Figure size 432x288 with 1 Axes>"
      ]
     },
     "metadata": {
      "needs_background": "light"
     },
     "output_type": "display_data"
    },
    {
     "data": {
      "image/png": "[encoded data removed]",
      "text/plain": [
       "<Figure size 432x288 with 1 Axes>"
      ]
     },
     "metadata": {
      "needs_background": "light"
     },
     "output_type": "display_data"
    },
    {
     "data": {
      "image/png": "[encoded data removed]",
      "text/plain": [
       "<Figure size 432x288 with 1 Axes>"
      ]
     },
     "metadata": {
      "needs_background": "light"
     },
     "output_type": "display_data"
    },
    {
     "data": {
      "image/png": "[encoded data removed]",
      "text/plain": [
       "<Figure size 432x288 with 1 Axes>"
      ]
     },
     "metadata": {
      "needs_background": "light"
     },
     "output_type": "display_data"
    },
    {
     "data": {
      "image/png": "[encoded data removed]",
      "text/plain": [
       "<Figure size 432x288 with 1 Axes>"
      ]
     },
     "metadata": {
      "needs_background": "light"
     },
     "output_type": "display_data"
    },
    {
     "data": {
      "image/png": "[encoded data removed]",
      "text/plain": [
       "<Figure size 432x288 with 1 Axes>"
      ]
     },
     "metadata": {
      "needs_background": "light"
     },
     "output_type": "display_data"
    }
   ],
   "source": [
    "for col in df.columns:\n",
    "    plt.figure()  # create a new plot for each column\n",
    "    sns.countplot(y=col, data=df)\n",
    "    plt.show()"
   ]
  },
  {
   "cell_type": "markdown",
   "metadata": {},
   "source": [
    "# Emily OLS + AIC"
   ]
  },
  {
   "cell_type": "code",
   "execution_count": 60,
   "metadata": {},
   "outputs": [],
   "source": [
    "def mod_aic(df):\n",
    "\n",
    "    aic_list = []\n",
    "    \n",
    "    for col in df.columns:\n",
    "        X = df[col]\n",
    "        model = smf.ols(data=df, formula='priority~X').fit()        \n",
    " \n",
    "        aic = round(model.aic,2)\n",
    "        aic_list.append(aic)\n",
    "        \n",
    "        print(f\"This is the AIC for {col}: {aic}\")"
   ]
  },
  {
   "cell_type": "code",
   "execution_count": 61,
   "metadata": {},
   "outputs": [
    {
     "name": "stdout",
     "output_type": "stream",
     "text": [
      "This is the AIC for day_of_week: 5820018.74\n",
      "This is the AIC for call_type: 2559326.14\n",
      "This is the AIC for disposition: 5750091.43\n",
      "This is the AIC for priority: -79033987.03\n",
      "This is the AIC for description: 5750091.43\n",
      "This is the AIC for neighborhood: 5806076.02\n",
      "This is the AIC for address_sfx_primary: 5361136.16\n",
      "This is the AIC for hour: 5814998.22\n",
      "This is the AIC for calls_at_hour: 5812270.91\n"
     ]
    }
   ],
   "source": [
    "#The AIC of each respective variable\n",
    "aic_reader= mod_aic(df)\n",
    "aic_reader"
   ]
  },
  {
   "cell_type": "code",
   "execution_count": 62,
   "metadata": {},
   "outputs": [
    {
     "data": {
      "text/plain": [
       "Index(['day_of_week', 'call_type', 'disposition', 'priority', 'description',\n",
       "       'neighborhood', 'address_sfx_primary', 'hour', 'calls_at_hour'],\n",
       "      dtype='object')"
      ]
     },
     "execution_count": 62,
     "metadata": {},
     "output_type": "execute_result"
    }
   ],
   "source": [
    "df.columns"
   ]
  },
  {
   "cell_type": "code",
   "execution_count": 63,
   "metadata": {},
   "outputs": [
    {
     "data": {
      "text/html": [
       "<div>\n",
       "<style scoped>\n",
       "    .dataframe tbody tr th:only-of-type {\n",
       "        vertical-align: middle;\n",
       "    }\n",
       "\n",
       "    .dataframe tbody tr th {\n",
       "        vertical-align: top;\n",
       "    }\n",
       "\n",
       "    .dataframe thead th {\n",
       "        text-align: right;\n",
       "    }\n",
       "</style>\n",
       "<table border=\"1\" class=\"dataframe\">\n",
       "  <thead>\n",
       "    <tr style=\"text-align: right;\">\n",
       "      <th></th>\n",
       "      <th>variable</th>\n",
       "      <th>aic</th>\n",
       "    </tr>\n",
       "  </thead>\n",
       "  <tbody>\n",
       "    <tr>\n",
       "      <th>0</th>\n",
       "      <td>day_of_week</td>\n",
       "      <td>5820018.74</td>\n",
       "    </tr>\n",
       "    <tr>\n",
       "      <th>1</th>\n",
       "      <td>call_type</td>\n",
       "      <td>2559326.14</td>\n",
       "    </tr>\n",
       "    <tr>\n",
       "      <th>2</th>\n",
       "      <td>disposition</td>\n",
       "      <td>5750091.43</td>\n",
       "    </tr>\n",
       "    <tr>\n",
       "      <th>3</th>\n",
       "      <td>description</td>\n",
       "      <td>5750091.43</td>\n",
       "    </tr>\n",
       "    <tr>\n",
       "      <th>4</th>\n",
       "      <td>neighborhood</td>\n",
       "      <td>5806076.02</td>\n",
       "    </tr>\n",
       "    <tr>\n",
       "      <th>5</th>\n",
       "      <td>address_sfx_primary</td>\n",
       "      <td>5361136.16</td>\n",
       "    </tr>\n",
       "    <tr>\n",
       "      <th>6</th>\n",
       "      <td>hour</td>\n",
       "      <td>5814998.22</td>\n",
       "    </tr>\n",
       "    <tr>\n",
       "      <th>7</th>\n",
       "      <td>calls_at_hour</td>\n",
       "      <td>5812270.91</td>\n",
       "    </tr>\n",
       "  </tbody>\n",
       "</table>\n",
       "</div>"
      ],
      "text/plain": [
       "              variable         aic\n",
       "0          day_of_week  5820018.74\n",
       "1            call_type  2559326.14\n",
       "2          disposition  5750091.43\n",
       "3          description  5750091.43\n",
       "4         neighborhood  5806076.02\n",
       "5  address_sfx_primary  5361136.16\n",
       "6                 hour  5814998.22\n",
       "7        calls_at_hour  5812270.91"
      ]
     },
     "execution_count": 63,
     "metadata": {},
     "output_type": "execute_result"
    }
   ],
   "source": [
    "#Dataframe with the AIC for each variable\n",
    "aic_df= pd.DataFrame({\n",
    " \n",
    "    'variable':['day_of_week', 'call_type', 'disposition', 'description',\n",
    "       'neighborhood', 'address_sfx_primary', 'hour', 'calls_at_hour'],\n",
    "    'aic': [5820018.74, 2559326.14, 5750091.43,  5750091.43, 5806076.02, 5361136.16, 5814998.22, 5812270.91]\n",
    "})\n",
    "aic_df"
   ]
  },
  {
   "cell_type": "code",
   "execution_count": 64,
   "metadata": {},
   "outputs": [
    {
     "data": {
      "text/html": [
       "<div>\n",
       "<style scoped>\n",
       "    .dataframe tbody tr th:only-of-type {\n",
       "        vertical-align: middle;\n",
       "    }\n",
       "\n",
       "    .dataframe tbody tr th {\n",
       "        vertical-align: top;\n",
       "    }\n",
       "\n",
       "    .dataframe thead th {\n",
       "        text-align: right;\n",
       "    }\n",
       "</style>\n",
       "<table border=\"1\" class=\"dataframe\">\n",
       "  <thead>\n",
       "    <tr style=\"text-align: right;\">\n",
       "      <th></th>\n",
       "      <th>variable</th>\n",
       "      <th>aic</th>\n",
       "    </tr>\n",
       "  </thead>\n",
       "  <tbody>\n",
       "    <tr>\n",
       "      <th>1</th>\n",
       "      <td>call_type</td>\n",
       "      <td>2559326.14</td>\n",
       "    </tr>\n",
       "    <tr>\n",
       "      <th>5</th>\n",
       "      <td>address_sfx_primary</td>\n",
       "      <td>5361136.16</td>\n",
       "    </tr>\n",
       "    <tr>\n",
       "      <th>2</th>\n",
       "      <td>disposition</td>\n",
       "      <td>5750091.43</td>\n",
       "    </tr>\n",
       "    <tr>\n",
       "      <th>3</th>\n",
       "      <td>description</td>\n",
       "      <td>5750091.43</td>\n",
       "    </tr>\n",
       "    <tr>\n",
       "      <th>4</th>\n",
       "      <td>neighborhood</td>\n",
       "      <td>5806076.02</td>\n",
       "    </tr>\n",
       "    <tr>\n",
       "      <th>7</th>\n",
       "      <td>calls_at_hour</td>\n",
       "      <td>5812270.91</td>\n",
       "    </tr>\n",
       "    <tr>\n",
       "      <th>6</th>\n",
       "      <td>hour</td>\n",
       "      <td>5814998.22</td>\n",
       "    </tr>\n",
       "    <tr>\n",
       "      <th>0</th>\n",
       "      <td>day_of_week</td>\n",
       "      <td>5820018.74</td>\n",
       "    </tr>\n",
       "  </tbody>\n",
       "</table>\n",
       "</div>"
      ],
      "text/plain": [
       "              variable         aic\n",
       "1            call_type  2559326.14\n",
       "5  address_sfx_primary  5361136.16\n",
       "2          disposition  5750091.43\n",
       "3          description  5750091.43\n",
       "4         neighborhood  5806076.02\n",
       "7        calls_at_hour  5812270.91\n",
       "6                 hour  5814998.22\n",
       "0          day_of_week  5820018.74"
      ]
     },
     "execution_count": 64,
     "metadata": {},
     "output_type": "execute_result"
    }
   ],
   "source": [
    "#The AIC df rearranged lowest to highest\n",
    "\n",
    "#A lower AIC is better \n",
    "sorted_aic_df= aic_df.sort_values(by='aic', ascending=True)\n",
    "sorted_aic_df"
   ]
  },
  {
   "cell_type": "markdown",
   "metadata": {},
   "source": [
    "# Ethics & Privacy"
   ]
  },
  {
   "cell_type": "markdown",
   "metadata": {},
   "source": [
    " One ethical concern that arises in this project is the potential for bias in the data. For example, certain neighborhoods may be overrepresented in the data due to a higher number of police calls, which can lead to the prioritization of calls from those neighborhoods over others. Additionally, there may be biases in the way that certain types of calls are classified or prioritized, which can have negative consequences for certain groups of people.\n",
    "\n",
    " It is important to acknowledge these biases and take steps to mitigate them throughout the data science process. This includes carefully selecting and cleaning the data, using unbiased algorithms and models, and regularly reviewing and monitoring the results to ensure that they are fair and accurate. Additionally, it is important to consider the potential impact of the analysis on different communities and to work to minimize any negative consequences."
   ]
  },
  {
   "cell_type": "markdown",
   "metadata": {},
   "source": [
    "# Conclusion & Discussion"
   ]
  },
  {
   "cell_type": "markdown",
   "metadata": {},
   "source": [
    "The present study aimed to investigate the existence of specific indicators related to the responsiveness rates of the San Diego police department. To accomplish this objective, we analyzed the data obtained from the department concerning the calls received during the period spanning from 2019 to 2023, identifying relevant variables such as call_type, neighborhood, description, etcetera.\n",
    "\n",
    "In an effort to identify the most significant factor that affected the responsiveness rate of the police, we employed the Ordinary Least Squares regression analysis. This method allowed us to determine which variables carried the most weight in our observations. To prevent overfitting and to evaluate each variable's performance, we calculated the Akaike Information Criterion (AIC) for each model, enabling us to identify the most indicative model for our predictor.\n",
    "\n",
    "The results of our analysis revealed that the call_type variable was the most significant determinant of responsiveness rate, while the day_of_week variable exhibited the least impact. Specifically, we observed that the AIC for call_type was considerably lower than that of the other variables. In terms of weighted predictors, the order was as follows: call_type, address_sfx_primary, disposition, description, neighborhood, calls_at_hour, hour, and day_of_week."
   ]
  },
  {
   "attachments": {},
   "cell_type": "markdown",
   "metadata": {},
   "source": [
    "## Video submission for the project\n",
    "Here is the link to view the video https://drive.google.com/file/d/1srvbPrun7pXnmpE6j4WbCj2HgwygtGey/view?usp=sharing"
   ]
  },
  {
   "cell_type": "markdown",
   "metadata": {},
   "source": [
    "# Team Contributions"
   ]
  },
  {
   "attachments": {},
   "cell_type": "markdown",
   "metadata": {},
   "source": [
    "*Specify who in your group worked on which parts of the project.*\n",
    "- Shasanka Nudurupati (Overview/Research Topic, Background, Datasets, )\n",
    "- Siddharth Vyasabattu (Datasets,Datacleaning, EDA, )\n",
    "- Abigail Vargas (Video)\n",
    "- Emily Lam ( OLS, AIC, Conclusion& Discussion)\n",
    "- Pulkit Goyal (Ethics & privacy)\n",
    "- John Chou (Video)"
   ]
  },
  {
   "cell_type": "markdown",
   "metadata": {},
   "source": []
  }
 ],
 "metadata": {
  "kernelspec": {
   "display_name": "Python 3 (ipykernel)",
   "language": "python",
   "name": "python3"
  },
  "language_info": {
   "codemirror_mode": {
    "name": "ipython",
    "version": 3
   },
   "file_extension": ".py",
   "mimetype": "text/x-python",
   "name": "python",
   "nbconvert_exporter": "python",
   "pygments_lexer": "ipython3",
   "version": "3.9.2"
  }
 },
 "nbformat": 4,
 "nbformat_minor": 2
}
