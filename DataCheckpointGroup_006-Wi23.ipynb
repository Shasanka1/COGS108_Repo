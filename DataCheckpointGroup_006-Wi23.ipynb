{
 "cells": [
  {
   "cell_type": "markdown",
   "metadata": {},
   "source": [
    "# COGS 108 - Data Checkpoint"
   ]
  },
  {
   "cell_type": "markdown",
   "metadata": {},
   "source": [
    "# Names\n",
    "- Shasanka Nudurupati \n",
    "- Siddharth Vyasabattu\n",
    "- Abigail Vargas\n",
    "- Emily Lam \n",
    "- Pulkit Goyal\n",
    "- John Chou"
   ]
  },
  {
   "cell_type": "markdown",
   "metadata": {},
   "source": [
    "*Using scientific ananlysis, we want to focus on studying a relationship where call type, disposition, neighborhood, and priority number of different police calls in San Diego from 2019-2023, as well as, predicting if there is a an influence/correlation for calls from one region in San Diego than others.*"
   ]
  },
  {
   "cell_type": "markdown",
   "metadata": {},
   "source": [
    "# Dataset(s)"
   ]
  },
  {
   "cell_type": "markdown",
   "metadata": {},
   "source": [
    "# Setup"
   ]
  },
  {
   "cell_type": "markdown",
   "metadata": {},
   "source": [
    "## We will be looking at the police Data set and merging them together "
   ]
  },
  {
   "cell_type": "code",
   "execution_count": 7,
   "metadata": {},
   "outputs": [],
   "source": [
    "import pandas as pd\n",
    "import numpy as np\n",
    "import plotly.express as px"
   ]
  },
  {
   "cell_type": "code",
   "execution_count": 8,
   "metadata": {},
   "outputs": [],
   "source": [
    "police_calls_2023 = pd.read_csv('Data/pd_calls_for_service_2023_datasd.csv') # has 7.8 MB Data\n",
    "police_calls_2022 = pd.read_csv('Data/pd_calls_for_service_2022_datasd.csv') # has 47 MB\n",
    "police_calls_2021 = pd.read_csv('Data/pd_calls_for_service_2021_datasd.csv') # has 53 MB\n",
    "police_calls_2020 = pd.read_csv('Data/pd_calls_for_service_2020_datasd.csv') # has 53 MB\n",
    "police_calls_2019 = pd.read_csv('Data/pd_calls_for_service_2019_datasd.csv')# has 55 MB Data\n",
    "\n",
    "disp_codes = pd.read_csv('Data/pd_dispo_codes_datasd.csv')\n",
    "beats = pd.read_csv('Data/pd_beat_codes_list_datasd.csv')"
   ]
  },
  {
   "cell_type": "markdown",
   "metadata": {},
   "source": [
    "## Here is the summary of Each of the Datasets per year "
   ]
  },
  {
   "cell_type": "code",
   "execution_count": 9,
   "metadata": {},
   "outputs": [
    {
     "data": {
      "text/plain": [
       "(590967, 14)"
      ]
     },
     "execution_count": 9,
     "metadata": {},
     "output_type": "execute_result"
    }
   ],
   "source": [
    "police_calls_2019.describe()\n",
    "police_calls_2019.shape"
   ]
  },
  {
   "cell_type": "code",
   "execution_count": 10,
   "metadata": {},
   "outputs": [
    {
     "data": {
      "text/plain": [
       "(567290, 14)"
      ]
     },
     "execution_count": 10,
     "metadata": {},
     "output_type": "execute_result"
    }
   ],
   "source": [
    "police_calls_2019.describe()\n",
    "police_calls_2019.shape"
   ]
  },
  {
   "cell_type": "code",
   "execution_count": 11,
   "metadata": {},
   "outputs": [
    {
     "data": {
      "text/plain": [
       "(568947, 14)"
      ]
     },
     "execution_count": 11,
     "metadata": {},
     "output_type": "execute_result"
    }
   ],
   "source": [
    "police_calls_2021.describe()\n",
    "police_calls_2021.shape"
   ]
  },
  {
   "cell_type": "code",
   "execution_count": 8,
   "metadata": {},
   "outputs": [
    {
     "data": {
      "text/plain": [
       "(499256, 14)"
      ]
     },
     "execution_count": 8,
     "metadata": {},
     "output_type": "execute_result"
    }
   ],
   "source": [
    "police_calls_2022.describe()\n",
    "police_calls_2022.shape"
   ]
  },
  {
   "cell_type": "code",
   "execution_count": 16,
   "metadata": {},
   "outputs": [
    {
     "data": {
      "text/plain": [
       "5    13401\n",
       "4    13289\n",
       "3    13011\n",
       "6    12675\n",
       "2    11646\n",
       "1    10261\n",
       "7     9002\n",
       "Name: day_of_week, dtype: int64"
      ]
     },
     "execution_count": 16,
     "metadata": {},
     "output_type": "execute_result"
    }
   ],
   "source": [
    "police_calls_2023.describe()\n",
    "police_calls_2023.shape\n",
    "police_calls_2023['day_of_week'].value_counts()"
   ]
  },
  {
   "cell_type": "markdown",
   "metadata": {},
   "source": [
    "## Trying to merge the Big Data Sets together to a big dataSet "
   ]
  },
  {
   "cell_type": "markdown",
   "metadata": {},
   "source": [
    "### Checking if any of the column values are null "
   ]
  },
  {
   "cell_type": "code",
   "execution_count": 23,
   "metadata": {},
   "outputs": [],
   "source": [
    "police_calls_big_dataset = pd.concat([police_calls_2023, police_calls_2022, police_calls_2021, police_calls_2020])\n",
    "police_calls_big_dataset = police_calls_big_dataset.merge(disp_codes, left_on= 'disposition', right_on= 'dispo_code')\n",
    "police_calls_big_dataset = police_calls_big_dataset.merge(beats)\n",
    "\n",
    "# Focusing out dataset on the columns that are best measurements for Linear/correlation predictions\n",
    "\n",
    "police_calls_big_dataset = police_calls_big_dataset[['date_time', 'day_of_week', 'call_type', 'disposition', 'priority', 'description', 'neighborhood']]\n",
    "police_calls_big_dataset = police_calls_big_dataset.sort_values(by = 'priority', ascending = False)\n"
   ]
  },
  {
   "cell_type": "code",
   "execution_count": 22,
   "metadata": {},
   "outputs": [
    {
     "data": {
      "text/html": [
       "<div>\n",
       "<style scoped>\n",
       "    .dataframe tbody tr th:only-of-type {\n",
       "        vertical-align: middle;\n",
       "    }\n",
       "\n",
       "    .dataframe tbody tr th {\n",
       "        vertical-align: top;\n",
       "    }\n",
       "\n",
       "    .dataframe thead th {\n",
       "        text-align: right;\n",
       "    }\n",
       "</style>\n",
       "<table border=\"1\" class=\"dataframe\">\n",
       "  <thead>\n",
       "    <tr style=\"text-align: right;\">\n",
       "      <th></th>\n",
       "      <th>date_time</th>\n",
       "      <th>day_of_week</th>\n",
       "      <th>call_type</th>\n",
       "      <th>disposition</th>\n",
       "      <th>priority</th>\n",
       "      <th>description</th>\n",
       "      <th>neighborhood</th>\n",
       "    </tr>\n",
       "  </thead>\n",
       "  <tbody>\n",
       "    <tr>\n",
       "      <th>1588528</th>\n",
       "      <td>2020-12-18 16:05:59</td>\n",
       "      <td>6</td>\n",
       "      <td>530</td>\n",
       "      <td>R</td>\n",
       "      <td>9</td>\n",
       "      <td>REPORT</td>\n",
       "      <td>Cherokee Point</td>\n",
       "    </tr>\n",
       "    <tr>\n",
       "      <th>1067134</th>\n",
       "      <td>2021-06-05 13:26:54</td>\n",
       "      <td>7</td>\n",
       "      <td>10852R</td>\n",
       "      <td>R</td>\n",
       "      <td>9</td>\n",
       "      <td>REPORT</td>\n",
       "      <td>Bay Park</td>\n",
       "    </tr>\n",
       "    <tr>\n",
       "      <th>890896</th>\n",
       "      <td>2021-10-13 12:10:07</td>\n",
       "      <td>4</td>\n",
       "      <td>653M</td>\n",
       "      <td>K</td>\n",
       "      <td>9</td>\n",
       "      <td>NO REPORT REQUIRED</td>\n",
       "      <td>Fairmount Village</td>\n",
       "    </tr>\n",
       "    <tr>\n",
       "      <th>1067142</th>\n",
       "      <td>2021-06-14 14:05:29</td>\n",
       "      <td>2</td>\n",
       "      <td>488R</td>\n",
       "      <td>R</td>\n",
       "      <td>9</td>\n",
       "      <td>REPORT</td>\n",
       "      <td>Bay Park</td>\n",
       "    </tr>\n",
       "    <tr>\n",
       "      <th>1428628</th>\n",
       "      <td>2021-10-06 16:24:28</td>\n",
       "      <td>4</td>\n",
       "      <td>530</td>\n",
       "      <td>R</td>\n",
       "      <td>9</td>\n",
       "      <td>REPORT</td>\n",
       "      <td>Chollas Creek</td>\n",
       "    </tr>\n",
       "    <tr>\n",
       "      <th>...</th>\n",
       "      <td>...</td>\n",
       "      <td>...</td>\n",
       "      <td>...</td>\n",
       "      <td>...</td>\n",
       "      <td>...</td>\n",
       "      <td>...</td>\n",
       "      <td>...</td>\n",
       "    </tr>\n",
       "    <tr>\n",
       "      <th>1156618</th>\n",
       "      <td>2021-01-28 09:13:16</td>\n",
       "      <td>5</td>\n",
       "      <td>1183</td>\n",
       "      <td>R</td>\n",
       "      <td>0</td>\n",
       "      <td>REPORT</td>\n",
       "      <td>Golden Hill</td>\n",
       "    </tr>\n",
       "    <tr>\n",
       "      <th>870004</th>\n",
       "      <td>2021-02-01 07:11:31</td>\n",
       "      <td>2</td>\n",
       "      <td>245</td>\n",
       "      <td>R</td>\n",
       "      <td>0</td>\n",
       "      <td>REPORT</td>\n",
       "      <td>North Park</td>\n",
       "    </tr>\n",
       "    <tr>\n",
       "      <th>203142</th>\n",
       "      <td>2020-06-29 17:24:04</td>\n",
       "      <td>2</td>\n",
       "      <td>1183</td>\n",
       "      <td>K</td>\n",
       "      <td>0</td>\n",
       "      <td>NO REPORT REQUIRED</td>\n",
       "      <td>Pacific Beach</td>\n",
       "    </tr>\n",
       "    <tr>\n",
       "      <th>1315951</th>\n",
       "      <td>2022-05-06 15:27:11</td>\n",
       "      <td>6</td>\n",
       "      <td>11-8</td>\n",
       "      <td>K</td>\n",
       "      <td>0</td>\n",
       "      <td>NO REPORT REQUIRED</td>\n",
       "      <td>Teralta West</td>\n",
       "    </tr>\n",
       "    <tr>\n",
       "      <th>98443</th>\n",
       "      <td>2021-03-16 16:41:28</td>\n",
       "      <td>3</td>\n",
       "      <td>10852</td>\n",
       "      <td>K</td>\n",
       "      <td>0</td>\n",
       "      <td>NO REPORT REQUIRED</td>\n",
       "      <td>East Village</td>\n",
       "    </tr>\n",
       "  </tbody>\n",
       "</table>\n",
       "<p>1686084 rows × 7 columns</p>\n",
       "</div>"
      ],
      "text/plain": [
       "                   date_time  day_of_week call_type disposition  priority  \\\n",
       "1588528  2020-12-18 16:05:59            6       530           R         9   \n",
       "1067134  2021-06-05 13:26:54            7    10852R           R         9   \n",
       "890896   2021-10-13 12:10:07            4      653M           K         9   \n",
       "1067142  2021-06-14 14:05:29            2      488R           R         9   \n",
       "1428628  2021-10-06 16:24:28            4       530           R         9   \n",
       "...                      ...          ...       ...         ...       ...   \n",
       "1156618  2021-01-28 09:13:16            5      1183           R         0   \n",
       "870004   2021-02-01 07:11:31            2       245           R         0   \n",
       "203142   2020-06-29 17:24:04            2      1183           K         0   \n",
       "1315951  2022-05-06 15:27:11            6      11-8           K         0   \n",
       "98443    2021-03-16 16:41:28            3     10852           K         0   \n",
       "\n",
       "                description       neighborhood  \n",
       "1588528              REPORT     Cherokee Point  \n",
       "1067134              REPORT           Bay Park  \n",
       "890896   NO REPORT REQUIRED  Fairmount Village  \n",
       "1067142              REPORT           Bay Park  \n",
       "1428628              REPORT      Chollas Creek  \n",
       "...                     ...                ...  \n",
       "1156618              REPORT        Golden Hill  \n",
       "870004               REPORT         North Park  \n",
       "203142   NO REPORT REQUIRED      Pacific Beach  \n",
       "1315951  NO REPORT REQUIRED       Teralta West  \n",
       "98443    NO REPORT REQUIRED       East Village  \n",
       "\n",
       "[1686084 rows x 7 columns]"
      ]
     },
     "execution_count": 22,
     "metadata": {},
     "output_type": "execute_result"
    }
   ],
   "source": [
    "police_calls_big_dataset"
   ]
  },
  {
   "cell_type": "code",
   "execution_count": 20,
   "metadata": {},
   "outputs": [
    {
     "name": "stdout",
     "output_type": "stream",
     "text": [
      "(2309745, 14)\n",
      "(590967, 14)\n",
      "(567290, 14)\n",
      "(568947, 14)\n",
      "(499256, 14)\n",
      "(83285, 14)\n"
     ]
    }
   ],
   "source": [
    "print(big_data_set.shape)\n",
    "print(police_calls_2019.shape)\n",
    "print(police_calls_2020.shape)\n",
    "print(police_calls_2021.shape)\n",
    "print(police_calls_2022.shape)\n",
    "print(police_calls_2023.shape)\n",
    "\n"
   ]
  },
  {
   "cell_type": "markdown",
   "metadata": {},
   "source": [
    "## We have made one big dataset from police calls (2019-2023) "
   ]
  },
  {
   "cell_type": "code",
   "execution_count": null,
   "metadata": {},
   "outputs": [],
   "source": [
    "big_data_set.to_csv('Data/Police_Data_set_Big.csv') # This is 168 MB of data\n"
   ]
  },
  {
   "cell_type": "markdown",
   "metadata": {},
   "source": [
    "## Data Cleaning Process "
   ]
  }
 ],
 "metadata": {
  "kernelspec": {
   "display_name": "Python 3 (ipykernel)",
   "language": "python",
   "name": "python3"
  },
  "language_info": {
   "codemirror_mode": {
    "name": "ipython",
    "version": 3
   },
   "file_extension": ".py",
   "mimetype": "text/x-python",
   "name": "python",
   "nbconvert_exporter": "python",
   "pygments_lexer": "ipython3",
   "version": "3.9.7"
  }
 },
 "nbformat": 4,
 "nbformat_minor": 4
}
